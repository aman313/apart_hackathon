{
  "cells": [
    {
      "cell_type": "markdown",
      "metadata": {
        "id": "view-in-github",
        "colab_type": "text"
      },
      "source": [
        "<a href=\"https://colab.research.google.com/github/aman313/apart_hackathon/blob/main/Linear_Reasoning_Features/reasoning_representation/LiReFs_storing_hs.ipynb\" target=\"_parent\"><img src=\"https://colab.research.google.com/assets/colab-badge.svg\" alt=\"Open In Colab\"/></a>"
      ]
    },
    {
      "cell_type": "code",
      "execution_count": 1,
      "id": "ae5765fa-d418-450f-a812-af01925b9caa",
      "metadata": {
        "libroFormatter": "formatter-string",
        "tags": [],
        "id": "ae5765fa-d418-450f-a812-af01925b9caa",
        "outputId": "cfcd821d-4713-4c29-c4dc-87d85387c0d7",
        "colab": {
          "base_uri": "https://localhost:8080/"
        }
      },
      "outputs": [
        {
          "output_type": "stream",
          "name": "stdout",
          "text": [
            "Find 1 GPU can be used.\n",
            "GPU 1: NVIDIA L4\n"
          ]
        }
      ],
      "source": [
        "import torch\n",
        "\n",
        "# 检查CUDA是否可用\n",
        "if torch.cuda.is_available():\n",
        "    gpu_count = torch.cuda.device_count()\n",
        "    print(f\"Find {gpu_count} GPU can be used.\")\n",
        "\n",
        "    for i in range(gpu_count):\n",
        "        gpu_name = torch.cuda.get_device_name(i)\n",
        "        print(f\"GPU {i + 1}: {gpu_name}\")\n",
        "else:\n",
        "    print(\"No GPU can be used.\")\n"
      ]
    },
    {
      "cell_type": "code",
      "source": [
        "!pip install rouge"
      ],
      "metadata": {
        "id": "bYR1xGMggT_J",
        "outputId": "b60cc769-f3df-4e24-f0f7-8fdca1be2423",
        "colab": {
          "base_uri": "https://localhost:8080/"
        }
      },
      "id": "bYR1xGMggT_J",
      "execution_count": 2,
      "outputs": [
        {
          "output_type": "stream",
          "name": "stdout",
          "text": [
            "Collecting rouge\n",
            "  Downloading rouge-1.0.1-py3-none-any.whl.metadata (4.1 kB)\n",
            "Requirement already satisfied: six in /usr/local/lib/python3.11/dist-packages (from rouge) (1.17.0)\n",
            "Downloading rouge-1.0.1-py3-none-any.whl (13 kB)\n",
            "Installing collected packages: rouge\n",
            "Successfully installed rouge-1.0.1\n"
          ]
        }
      ]
    },
    {
      "cell_type": "code",
      "execution_count": 2,
      "id": "3d0307f7-3393-41fa-b941-58e6882e0661",
      "metadata": {
        "libroFormatter": "formatter-string",
        "tags": [],
        "id": "3d0307f7-3393-41fa-b941-58e6882e0661"
      },
      "outputs": [],
      "source": [
        "import copy\n",
        "from nltk.translate.bleu_score import sentence_bleu, SmoothingFunction\n",
        "from rouge import Rouge\n",
        "# from bert_score import score\n",
        "import statistics\n",
        "from ast import literal_eval\n",
        "import functools\n",
        "import json\n",
        "import os\n",
        "import random\n",
        "import numpy as np\n",
        "import pandas as pd\n",
        "import torch\n",
        "import torch.nn.functional as F\n",
        "\n",
        "random.seed(8888)\n",
        "torch.manual_seed(8888)\n",
        "random.seed(8888)\n",
        "np.random.seed(8888)\n",
        "\n",
        "if torch.cuda.is_available():\n",
        "    torch.cuda.manual_seed(8888)\n",
        "    torch.cuda.manual_seed_all(8888)\n",
        "\n",
        "\n",
        "from tqdm import tqdm\n",
        "\n",
        "torch.set_grad_enabled(False)\n",
        "tqdm.pandas()"
      ]
    },
    {
      "cell_type": "code",
      "execution_count": 3,
      "id": "c34da45d-8cc6-427d-a5ac-3cc53e4c13d5",
      "metadata": {
        "libroFormatter": "formatter-string",
        "tags": [],
        "id": "c34da45d-8cc6-427d-a5ac-3cc53e4c13d5",
        "outputId": "2a0e5d4d-df37-44df-bf74-ab189090ce44",
        "colab": {
          "base_uri": "https://localhost:8080/",
          "height": 49,
          "referenced_widgets": [
            "868b250a68964c608a5b44d6369aec65",
            "25afd6e234544ea2b9eb68843adb6932",
            "406cfb8c83bc429ca5747544497cd06b",
            "354479b133c44a2580c6d1945897d01d",
            "1abbb62946cd4c8aaa51a68465991a4d",
            "740f53c861134eaa9a4a1b204a74df0c",
            "83c24ab4ff8d4db8b9783c38c2335793",
            "4c9e0eb4edb64fdd891816b3f73ad723",
            "891b74354bbd451cbf7cbdc5682433cd",
            "df21536bfd684f3c88ac1080c2f432e1",
            "fef7a900df9840aeb126b47c103eefe9"
          ]
        }
      },
      "outputs": [
        {
          "output_type": "display_data",
          "data": {
            "text/plain": [
              "Loading checkpoint shards:   0%|          | 0/4 [00:00<?, ?it/s]"
            ],
            "application/vnd.jupyter.widget-view+json": {
              "version_major": 2,
              "version_minor": 0,
              "model_id": "868b250a68964c608a5b44d6369aec65"
            }
          },
          "metadata": {}
        }
      ],
      "source": [
        "torch.cuda.set_device(0)\n",
        "\n",
        "from transformers import AutoModelForCausalLM, AutoTokenizer\n",
        "import json\n",
        "from os.path import join\n",
        "\n",
        "model_dir = \"google\"\n",
        "model_name = 'gemma-2-9b-it'  #gemma-2-9b-it  gemma-2-9b\n",
        "output_dir = '/mnt/workspace/Knowledge_Concentration/outputs'\n",
        "dataset_dir = '/mnt/workspace/Knowledge_Concentration/dataset'\n",
        "\n",
        "#'Meta-Llama-3-8B-Instruct' #'Llama-2-7b-chat-hf' #'llama-7b'\n",
        "# \"OLMo-7B-Instruct\" olmo-2-1124-7B-Instruct 'OLMo-2-1124-7B'  \"OLMo-7B-0724-Instruct-hf\" olmo1的情况都非常反常，不知道为什么\n",
        "# Qwen-7B, Qwen1.5-7B, Qwen-7B-Chat, Qwen1.5-7B-Chat, Qwen2-7B-Instruct, Qwen2.5-7B-Instruct, Qwen2.5-Coder-7B, Qwen2.5对中文做过优化，情况不太一样\n",
        "# Mistral-7B-Instruct-v0.1, Mistral-7B-Instruct-v0.2, Mistral-7B-Instruct-v0.3, Mistral-7B-v0.3\n",
        "# Yi-1.5-6B-Chat, Yi-6B-Chat\n",
        "# gemma-2-9b-it gemma-7b-it, gemma-2-9b\n",
        "# gpt-j-6b, mpt-7b-chat, opt-6.7b, pythia-6.9b, zephyr-7b-beta, falcon-7b-instruct\n",
        "# deepseek\n",
        "\n",
        "\n",
        "model = AutoModelForCausalLM.from_pretrained(\n",
        "    join(model_dir, model_name),\n",
        "    torch_dtype=torch.float16,\n",
        "    trust_remote_code=True\n",
        ");\n",
        "\n",
        "tokenizer = AutoTokenizer.from_pretrained(join(model_dir, model_name), trust_remote_code=True)\n",
        "\n",
        "if 'llama' in model.config.model_type.lower() or 'mistral' in model.config.model_type.lower() or 'yi' in model.config.model_type.lower() or 'gptj' in model.config.model_type.lower():\n",
        "    tokenizer.pad_token_id = tokenizer.eos_token_id\n",
        "elif 'qwen' in model.config.model_type.lower():\n",
        "    tokenizer.pad_token = '<|endoftext|>'\n",
        "    # in gemma, pad_token_id = 0 is default\n",
        "    # in olmo, pad_token_id = 1 is default\n",
        "\n",
        "tokenizer.padding_side = \"left\"\n",
        "\n",
        "model.to('cuda');\n"
      ]
    },
    {
      "cell_type": "code",
      "execution_count": null,
      "id": "56b2e91c-fd3a-409b-93ae-073fc64c5643",
      "metadata": {
        "libroFormatter": "formatter-string",
        "tags": [],
        "id": "56b2e91c-fd3a-409b-93ae-073fc64c5643",
        "outputId": "eb24556f-0025-4809-ceb2-c6be2ef3d944"
      },
      "outputs": [
        {
          "name": "stdout",
          "output_type": "stream",
          "text": [
            "model:  LlamaForCausalLM(\n",
            "  (model): LlamaModel(\n",
            "    (embed_tokens): Embedding(128256, 4096)\n",
            "    (layers): ModuleList(\n",
            "      (0-31): 32 x LlamaDecoderLayer(\n",
            "        (self_attn): LlamaAttention(\n",
            "          (q_proj): Linear(in_features=4096, out_features=4096, bias=False)\n",
            "          (k_proj): Linear(in_features=4096, out_features=1024, bias=False)\n",
            "          (v_proj): Linear(in_features=4096, out_features=1024, bias=False)\n",
            "          (o_proj): Linear(in_features=4096, out_features=4096, bias=False)\n",
            "        )\n",
            "        (mlp): LlamaMLP(\n",
            "          (gate_proj): Linear(in_features=4096, out_features=14336, bias=False)\n",
            "          (up_proj): Linear(in_features=4096, out_features=14336, bias=False)\n",
            "          (down_proj): Linear(in_features=14336, out_features=4096, bias=False)\n",
            "          (act_fn): SiLU()\n",
            "        )\n",
            "        (input_layernorm): LlamaRMSNorm((4096,), eps=1e-05)\n",
            "        (post_attention_layernorm): LlamaRMSNorm((4096,), eps=1e-05)\n",
            "      )\n",
            "    )\n",
            "    (norm): LlamaRMSNorm((4096,), eps=1e-05)\n",
            "    (rotary_emb): LlamaRotaryEmbedding()\n",
            "  )\n",
            "  (lm_head): Linear(in_features=4096, out_features=128256, bias=False)\n",
            ")\n",
            "model.config:  LlamaConfig {\n",
            "  \"_attn_implementation_autoset\": true,\n",
            "  \"architectures\": [\n",
            "    \"LlamaForCausalLM\"\n",
            "  ],\n",
            "  \"attention_bias\": false,\n",
            "  \"attention_dropout\": 0.0,\n",
            "  \"bos_token_id\": 128000,\n",
            "  \"eos_token_id\": 128001,\n",
            "  \"head_dim\": 128,\n",
            "  \"hidden_act\": \"silu\",\n",
            "  \"hidden_size\": 4096,\n",
            "  \"initializer_range\": 0.02,\n",
            "  \"intermediate_size\": 14336,\n",
            "  \"max_position_embeddings\": 8192,\n",
            "  \"mlp_bias\": false,\n",
            "  \"model_type\": \"llama\",\n",
            "  \"num_attention_heads\": 32,\n",
            "  \"num_hidden_layers\": 32,\n",
            "  \"num_key_value_heads\": 8,\n",
            "  \"pretraining_tp\": 1,\n",
            "  \"rms_norm_eps\": 1e-05,\n",
            "  \"rope_scaling\": null,\n",
            "  \"rope_theta\": 500000.0,\n",
            "  \"tie_word_embeddings\": false,\n",
            "  \"torch_dtype\": \"float32\",\n",
            "  \"transformers_version\": \"4.51.3\",\n",
            "  \"use_cache\": true,\n",
            "  \"vocab_size\": 128256\n",
            "}\n",
            "\n",
            "model.config.model_type.lower():  llama\n"
          ]
        }
      ],
      "source": [
        "print('model: ',model)\n",
        "print('model.config: ',model.config)\n",
        "print('model.config.model_type.lower(): ',model.config.model_type.lower())  # Often provides a string identifier\n",
        "# print('model.config.num_hidden_layers: ',model.config.num_hidden_layers)\n",
        "\n",
        "\n",
        "if 'gptj' in model.config.model_type.lower():\n",
        "    model_layers_num = int(model.config.n_layer)\n",
        "    mlp_vector_num = 16384\n",
        "    mlp_dim_num = int(model.config.n_embd)\n",
        "    layer_name = 'transformer.h'\n",
        "    mlp_name = 'mlp'\n",
        "    mlp_last_layer_name = 'fc_out'\n",
        "\n",
        "elif 'qwen' in model.config.model_type.lower() and 'qwen2' not in model.config.model_type.lower(): #qwen1, qwen2.5\n",
        "    layer_name = 'transformer.h'\n",
        "    mlp_name = 'mlp'\n",
        "    mlp_last_layer_name = 'w2'\n",
        "    mlp_dim_num = int(model.config.hidden_size)\n",
        "    model_layers_num = int(model.config.num_hidden_layers)\n",
        "    mlp_vector_num = int(model.config.intermediate_size / 2)\n",
        "\n",
        "else:\n",
        "    model_layers_num = int(model.config.num_hidden_layers)  # on olmo1, olmo2, qwen2, qwen2.5, llama, ...\n",
        "    mlp_vector_num = int(model.config.intermediate_size)\n",
        "    mlp_dim_num = int(model.config.hidden_size)\n",
        "    layer_name = 'model.layers'\n",
        "    mlp_name = 'mlp'\n",
        "    mlp_last_layer_name = 'down_proj'\n",
        "    attn_name = 'self_attn'\n",
        "\n",
        "\n",
        "\n"
      ]
    },
    {
      "cell_type": "code",
      "execution_count": null,
      "id": "469c78a0-da4f-46b4-9626-42160492accc",
      "metadata": {
        "libroFormatter": "formatter-string",
        "tags": [],
        "id": "469c78a0-da4f-46b4-9626-42160492accc",
        "outputId": "dbd7168b-02db-4d05-fc3f-bdb9d8b2133e"
      },
      "outputs": [
        {
          "name": "stdout",
          "output_type": "stream",
          "text": [
            "----------------- Start Answering -------------------\n",
            "layers_to_cache:  [0, 1, 2, 3, 4, 5, 6, 7, 8, 9, 10, 11, 12, 13, 14, 15, 16, 17, 18, 19, 20, 21, 22, 23, 24, 25, 26, 27, 28, 29, 30, 31]\n",
            "----------------- Running no cot Inference -------------------\n"
          ]
        },
        {
          "name": "stderr",
          "output_type": "stream",
          "text": [
            "600it [02:17,  4.36it/s]\n"
          ]
        }
      ],
      "source": [
        "import datasets\n",
        "import json\n",
        "import re\n",
        "import random\n",
        "from datasets import load_from_disk\n",
        "from tqdm import tqdm\n",
        "\n",
        "n_new_tokens = 100\n",
        "NUll_num = 0\n",
        "\n",
        "def form_options(options: list):\n",
        "    option_str = 'Options are:\\n'\n",
        "    opts = ['A', 'B', 'C', 'D', 'E', 'F', 'G', 'H', 'I', 'J']\n",
        "    for opt, o in zip(options, opts):\n",
        "        option_str += f'({o}): {opt}' + '\\n'\n",
        "    return option_str\n",
        "\n",
        "\n",
        "def get_prediction(output):\n",
        "    pattern = r\"answer is \\(?([ABCDEFGHIJ])\\)?\"\n",
        "    match = re.search(pattern, output)\n",
        "    if match:\n",
        "        #print('prediction success: ',match.group(1))\n",
        "        return match.group(1)\n",
        "    else:\n",
        "        #print(\"extraction failed, do a random guess\")\n",
        "        global NUll_num\n",
        "        NUll_num += 1\n",
        "        return random.choice(['A', 'B', 'C', 'D', 'E', 'F', 'G', 'H', 'I', 'J'])\n",
        "\n",
        "\n",
        "def generate_outputs(questions):\n",
        "\n",
        "    inputs = tokenizer(questions, return_tensors=\"pt\", padding=\"longest\", return_token_type_ids=False).to('cuda')\n",
        "    input_length = inputs.input_ids.size(1)\n",
        "    output = model(**inputs, output_hidden_states = True)\n",
        "#     Question_input = [[{\"role\": \"user\", \"content\": prompt}] for prompt in questions]\n",
        "#     texts = tokenizer.apply_chat_template(Question_input ,tokenize=False)\n",
        "\n",
        "#     inputs = tokenizer(texts, padding=\"longest\", return_tensors=\"pt\")\n",
        "#     inputs = {key: val.cuda() for key, val in inputs.items()}\n",
        "#     output = model(**inputs, output_hidden_states = True)\n",
        "\n",
        "    return output\n",
        "\n",
        "def generate_questions(questions):\n",
        "\n",
        "    inputs = tokenizer(questions, return_tensors=\"pt\", padding=\"longest\", return_token_type_ids=False).to('cuda')\n",
        "    input_length = inputs.input_ids.size(1)\n",
        "    gen_tokens = model.generate(**inputs, max_new_tokens=n_new_tokens, do_sample=False)\n",
        "\n",
        "    gen_text = tokenizer.batch_decode(gen_tokens[:, input_length:], skip_special_tokens=True)\n",
        "\n",
        "    return gen_text\n",
        "\n",
        "\n",
        "dataset = load_from_disk('/mnt/workspace/Interp_Reasoning/dataset/mmlu-pro')\n",
        "\n",
        "categories = ['computer science', 'math', 'chemistry', 'engineering', 'law', 'biology',\n",
        "              'health', 'physics', 'business', 'philosophy', 'economics', 'other',\n",
        "              'psychology', 'history']\n",
        "\n",
        "per_category_accuracy = {c: [0, 0] for c in categories}\n",
        "success, fail = 0, 0\n",
        "answers = []\n",
        "\n",
        "print('----------------- Start Answering -------------------')\n",
        "queries_batch = []  # 可以测试一下batch or single哪种方式准确率更高，更合适一些 #发现基本是一样的，padding不会对准确率造成影响\n",
        "entry_batch = []\n",
        "\n",
        "batch_size = 4\n",
        "\n",
        "random.seed(8888)\n",
        "\n",
        "test_data = list(dataset['test'])\n",
        "\n",
        "# example: running on 600 samples\n",
        "sampled_data = random.sample(test_data, 600)\n",
        "\n",
        "layers_to_cache = list(range(model_layers_num))\n",
        "print('layers_to_cache: ',layers_to_cache)\n",
        "hs_cache_cot = {}\n",
        "hs_cache_no_cot = {}\n",
        "\n",
        "print('----------------- Running no cot Inference -------------------')\n",
        "for ix, entry in tqdm(enumerate(sampled_data)):\n",
        "\n",
        "    query = 'Q: ' + entry['question'] + \"\\nA: \"\n",
        "\n",
        "    queries_batch.append(query)\n",
        "\n",
        "    if len(queries_batch) == batch_size or ix == len(dataset['test']) - 1:\n",
        "        output = generate_outputs(queries_batch)\n",
        "\n",
        "        for layer in layers_to_cache:\n",
        "            if layer not in hs_cache_no_cot:\n",
        "                hs_cache_no_cot[layer] = output[\"hidden_states\"][layer][: ,-1 , :].cpu() #bs * tok * dims\n",
        "            else:\n",
        "                hs_cache_no_cot[layer] = torch.cat((hs_cache_no_cot[layer], output[\"hidden_states\"][layer][: ,-1 , :].cpu()), dim=0)\n",
        "\n",
        "\n",
        "        queries_batch = []\n",
        "    torch.cuda.empty_cache()\n",
        ""
      ]
    },
    {
      "cell_type": "markdown",
      "id": "d5a0986f-d203-42eb-b694-3dcc391299a9",
      "metadata": {
        "libroFormatter": "formatter-string",
        "tags": [],
        "id": "d5a0986f-d203-42eb-b694-3dcc391299a9"
      },
      "source": [
        "# **PCA**"
      ]
    },
    {
      "cell_type": "code",
      "execution_count": null,
      "id": "e0d4d3ff-47fe-42cb-8387-017fb72d08d5",
      "metadata": {
        "libroCellType": "code",
        "libroFormatter": "formatter-string",
        "tags": [],
        "id": "e0d4d3ff-47fe-42cb-8387-017fb72d08d5"
      },
      "outputs": [],
      "source": [
        "with open('/mnt/workspace/Interp_Reasoning/dataset/mmlu-pro-600samples.json', 'r', encoding='utf-8') as f:\n",
        "    sampled_data = json.load(f)\n",
        "\n",
        "reason_indices = [ix for ix, sample in enumerate(sampled_data) if sample['memory_reason_score'] > 0.5]\n",
        "memory_indices = [ix for ix, sample in enumerate(sampled_data) if sample['memory_reason_score'] <= 0.5]"
      ]
    },
    {
      "cell_type": "code",
      "execution_count": null,
      "id": "87fd1a7d-e874-41fd-911c-8a9debf040ca",
      "metadata": {
        "libroFormatter": "formatter-string",
        "tags": [],
        "id": "87fd1a7d-e874-41fd-911c-8a9debf040ca",
        "outputId": "00bbd95f-92c3-4292-9a99-16e9b87d0459"
      },
      "outputs": [
        {
          "name": "stdout",
          "output_type": "stream",
          "text": [
            "#####Running on ceval_liberal test set\n",
            "The size is 746\n",
            "layers_to_cache_other:  [0, 1, 2, 3, 4, 5, 6, 7, 8, 9, 10, 11, 12, 13, 14, 15, 16, 17, 18, 19, 20, 21, 22, 23, 24, 25, 26, 27, 28, 29, 30, 31]\n"
          ]
        },
        {
          "name": "stderr",
          "output_type": "stream",
          "text": [
            "746it [02:06,  5.92it/s]\n"
          ]
        },
        {
          "name": "stdout",
          "output_type": "stream",
          "text": [
            "#####Running on gsm8k test set\n",
            "The size is 1319\n",
            "layers_to_cache_other:  [0, 1, 2, 3, 4, 5, 6, 7, 8, 9, 10, 11, 12, 13, 14, 15, 16, 17, 18, 19, 20, 21, 22, 23, 24, 25, 26, 27, 28, 29, 30, 31]\n"
          ]
        },
        {
          "name": "stderr",
          "output_type": "stream",
          "text": [
            "1319it [03:54,  5.61it/s]\n"
          ]
        },
        {
          "name": "stdout",
          "output_type": "stream",
          "text": [
            "#####Running on mgsm test set\n",
            "The size is 1245\n",
            "layers_to_cache_other:  [0, 1, 2, 3, 4, 5, 6, 7, 8, 9, 10, 11, 12, 13, 14, 15, 16, 17, 18, 19, 20, 21, 22, 23, 24, 25, 26, 27, 28, 29, 30, 31]\n"
          ]
        },
        {
          "name": "stderr",
          "output_type": "stream",
          "text": [
            "1245it [07:11,  2.89it/s]\n"
          ]
        },
        {
          "name": "stdout",
          "output_type": "stream",
          "text": [
            "#####Running on popqa test set\n",
            "The size is 14267\n",
            "layers_to_cache_other:  [0, 1, 2, 3, 4, 5, 6, 7, 8, 9, 10, 11, 12, 13, 14, 15, 16, 17, 18, 19, 20, 21, 22, 23, 24, 25, 26, 27, 28, 29, 30, 31]\n"
          ]
        },
        {
          "name": "stderr",
          "output_type": "stream",
          "text": [
            "2648it [05:06,  8.68it/s]"
          ]
        }
      ],
      "source": [
        "# loading and running gsm8k or other dataset\n",
        "\n",
        "\n",
        "gsm8k_ds_main = load_from_disk('/mnt/workspace/Interp_Reasoning/dataset/gsm8k/main')\n",
        "gsm8k_ds_main_test = list(gsm8k_ds_main['test'])\n",
        "\n",
        "# mbpp_ds_full = load_from_disk('/mnt/workspace/Interp_Reasoning/dataset/mbpp/full')\n",
        "# mbpp_ds_full_val = list(mbpp_ds_full['validation'])\n",
        "\n",
        "# mbpp_ds_full = load_from_disk('/mnt/workspace/Interp_Reasoning/dataset/mbpp/full')\n",
        "# mbpp_ds_full_test = list(mbpp_ds_full['test'])\n",
        "\n",
        "# example on MGSM, feel free to add other categories in MGSM\n",
        "mgsm_zh = pd.read_csv('/mnt/workspace/Interp_Reasoning/dataset/mgsm/mgsm_zh.tsv', sep='\\t')\n",
        "mgsm_zh_test = mgsm_zh.values.tolist()\n",
        "mgsm_de = pd.read_csv('/mnt/workspace/Interp_Reasoning/dataset/mgsm/mgsm_de.tsv', sep='\\t')\n",
        "mgsm_de_test = mgsm_de.values.tolist()\n",
        "mgsm_bn = pd.read_csv('/mnt/workspace/Interp_Reasoning/dataset/mgsm/mgsm_bn.tsv', sep='\\t')\n",
        "mgsm_bn_test = mgsm_bn.values.tolist()\n",
        "mgsm_ja = pd.read_csv('/mnt/workspace/Interp_Reasoning/dataset/mgsm/mgsm_ja.tsv', sep='\\t')\n",
        "mgsm_ja_test = mgsm_ja.values.tolist()\n",
        "mgsm_te = pd.read_csv('/mnt/workspace/Interp_Reasoning/dataset/mgsm/mgsm_te.tsv', sep='\\t')\n",
        "mgsm_te_test = mgsm_te.values.tolist()\n",
        "\n",
        "\n",
        "# example on C-Eval, feel free to add other categories in C-Eval\n",
        "ceval_chi = pd.read_csv('/mnt/workspace/Interp_Reasoning/dataset/ceval-exam/test/chinese_language_and_literature_test.csv')['question']\n",
        "ceval_chi_test = ceval_chi.tolist()\n",
        "ceval_his = pd.read_csv('/mnt/workspace/Interp_Reasoning/dataset/ceval-exam/test/high_school_history_test.csv')['question']\n",
        "ceval_his_test = ceval_his.tolist()\n",
        "ceval_pol = pd.read_csv('/mnt/workspace/Interp_Reasoning/dataset/ceval-exam/test/high_school_politics_test.csv')['question']\n",
        "ceval_pol_test = ceval_pol.tolist()\n",
        "ceval_mar = pd.read_csv('/mnt/workspace/Interp_Reasoning/dataset/ceval-exam/test/marxism_test.csv')['question']\n",
        "ceval_mar_test = ceval_mar.tolist()\n",
        "ceval_bus = pd.read_csv('/mnt/workspace/Interp_Reasoning/dataset/ceval-exam/test/business_administration_test.csv')['question']\n",
        "ceval_bus_test = ceval_bus.tolist()\n",
        "\n",
        "\n",
        "popqa_test = load_from_disk('/mnt/workspace/Interp_Reasoning/dataset/PopQA/test')\n",
        "popqa_test = list(popqa_test)\n",
        "\n",
        "\n",
        "\n",
        "other_running_set_name_list = ['ceval_liberal', 'gsm8k', 'mgsm', 'popqa'] # mbpp,, hoppingtoolate， , 'mbpp', 'popqa',\n",
        "# other_running_set_name_list = ['mbpp']\n",
        "other_dataset = None\n",
        "\n",
        "hs_cache_no_cot_other_all = {}\n",
        "\n",
        "for other_running_set_name in other_running_set_name_list:\n",
        "\n",
        "    if other_running_set_name == 'mbpp':\n",
        "        other_dataset = mbpp_ds_full_test\n",
        "    elif other_running_set_name == 'gsm8k':\n",
        "        other_dataset = gsm8k_ds_main_test\n",
        "    elif other_running_set_name == 'mgsm': #multilingual gsm8k\n",
        "        other_dataset = mgsm_zh_test + mgsm_de_test + mgsm_bn_test + mgsm_ja_test + mgsm_te_test\n",
        "    elif other_running_set_name == 'ceval_liberal':\n",
        "        other_dataset = ceval_chi_test + ceval_his_test + ceval_pol_test + ceval_mar_test # + ceval_bus_test\n",
        "    elif other_running_set_name == 'popqa': #multilingual gsm8k\n",
        "        other_dataset = popqa_test\n",
        "\n",
        "\n",
        "    print(f'#####Running on {other_running_set_name} test set')\n",
        "    print(f'The size is {len(other_dataset)}')\n",
        "\n",
        "    layers_to_cache_other = list(range(model_layers_num))\n",
        "    print('layers_to_cache_other: ',layers_to_cache_other)\n",
        "    hs_cache_no_cot_other = {}\n",
        "    queries_batch = []\n",
        "    batch_size = 4\n",
        "\n",
        "    for ix, entry in tqdm(enumerate(other_dataset)):\n",
        "\n",
        "        if other_running_set_name == 'gsm8k':\n",
        "            query = 'Q: ' + entry['question'] + \"\\nA: \"\n",
        "        elif other_running_set_name == 'mbpp':\n",
        "            query = 'Q: ' + entry['text'] + \"\\nA: \"\n",
        "        elif other_running_set_name == 'mgsm':\n",
        "            query = 'Q: ' + entry[0] + \"\\nA: \"\n",
        "        elif other_running_set_name == 'ceval_liberal':\n",
        "            query = 'Q: ' + entry + \"\\nA: \"\n",
        "        elif other_running_set_name == 'popqa':\n",
        "            query = 'Q: ' + entry['question'] + \"\\nA: \"\n",
        "\n",
        "        queries_batch.append(query)\n",
        "\n",
        "        if len(queries_batch) == batch_size or ix == len(other_dataset) - 1:\n",
        "            output = generate_outputs(queries_batch)\n",
        "\n",
        "            for layer in layers_to_cache_other:\n",
        "                if layer not in hs_cache_no_cot_other:\n",
        "                    hs_cache_no_cot_other[layer] = output[\"hidden_states\"][layer][: ,-1 , :].cpu() #bs * tok * dims\n",
        "                else:\n",
        "                    hs_cache_no_cot_other[layer] = torch.cat((hs_cache_no_cot_other[layer], output[\"hidden_states\"][layer][: ,-1 , :].cpu()), dim=0)\n",
        "\n",
        "            queries_batch = []\n",
        "        torch.cuda.empty_cache()\n",
        "\n",
        "    hs_cache_no_cot_other_all[other_running_set_name] = hs_cache_no_cot_other\n"
      ]
    },
    {
      "cell_type": "code",
      "execution_count": null,
      "id": "57033cea-758c-4dd9-9447-608bbed6a970",
      "metadata": {
        "tags": [],
        "id": "57033cea-758c-4dd9-9447-608bbed6a970"
      },
      "outputs": [],
      "source": [
        "# os.makedirs(save_path, exist_ok=True)\n",
        "save_path = '/mnt/workspace/workgroup/yhhong/reasoning_representations_outputs'\n",
        "\n",
        "torch.save(hs_cache_no_cot_other_all, os.path.join(save_path, f'{model_name}-base_hs_cache_no_cot_all.pt'))"
      ]
    }
  ],
  "metadata": {
    "kernelspec": {
      "display_name": "liref_env",
      "language": "python",
      "name": "liref_env"
    },
    "language_info": {
      "codemirror_mode": {
        "name": "ipython",
        "version": 3
      },
      "file_extension": ".py",
      "mimetype": "text/x-python",
      "name": "python",
      "nbconvert_exporter": "python",
      "pygments_lexer": "ipython3",
      "version": "3.12.9"
    },
    "colab": {
      "provenance": [],
      "machine_shape": "hm",
      "gpuType": "A100",
      "include_colab_link": true
    },
    "accelerator": "GPU",
    "widgets": {
      "application/vnd.jupyter.widget-state+json": {
        "868b250a68964c608a5b44d6369aec65": {
          "model_module": "@jupyter-widgets/controls",
          "model_name": "HBoxModel",
          "model_module_version": "1.5.0",
          "state": {
            "_dom_classes": [],
            "_model_module": "@jupyter-widgets/controls",
            "_model_module_version": "1.5.0",
            "_model_name": "HBoxModel",
            "_view_count": null,
            "_view_module": "@jupyter-widgets/controls",
            "_view_module_version": "1.5.0",
            "_view_name": "HBoxView",
            "box_style": "",
            "children": [
              "IPY_MODEL_25afd6e234544ea2b9eb68843adb6932",
              "IPY_MODEL_406cfb8c83bc429ca5747544497cd06b",
              "IPY_MODEL_354479b133c44a2580c6d1945897d01d"
            ],
            "layout": "IPY_MODEL_1abbb62946cd4c8aaa51a68465991a4d"
          }
        },
        "25afd6e234544ea2b9eb68843adb6932": {
          "model_module": "@jupyter-widgets/controls",
          "model_name": "HTMLModel",
          "model_module_version": "1.5.0",
          "state": {
            "_dom_classes": [],
            "_model_module": "@jupyter-widgets/controls",
            "_model_module_version": "1.5.0",
            "_model_name": "HTMLModel",
            "_view_count": null,
            "_view_module": "@jupyter-widgets/controls",
            "_view_module_version": "1.5.0",
            "_view_name": "HTMLView",
            "description": "",
            "description_tooltip": null,
            "layout": "IPY_MODEL_740f53c861134eaa9a4a1b204a74df0c",
            "placeholder": "​",
            "style": "IPY_MODEL_83c24ab4ff8d4db8b9783c38c2335793",
            "value": "Loading checkpoint shards: 100%"
          }
        },
        "406cfb8c83bc429ca5747544497cd06b": {
          "model_module": "@jupyter-widgets/controls",
          "model_name": "FloatProgressModel",
          "model_module_version": "1.5.0",
          "state": {
            "_dom_classes": [],
            "_model_module": "@jupyter-widgets/controls",
            "_model_module_version": "1.5.0",
            "_model_name": "FloatProgressModel",
            "_view_count": null,
            "_view_module": "@jupyter-widgets/controls",
            "_view_module_version": "1.5.0",
            "_view_name": "ProgressView",
            "bar_style": "success",
            "description": "",
            "description_tooltip": null,
            "layout": "IPY_MODEL_4c9e0eb4edb64fdd891816b3f73ad723",
            "max": 4,
            "min": 0,
            "orientation": "horizontal",
            "style": "IPY_MODEL_891b74354bbd451cbf7cbdc5682433cd",
            "value": 4
          }
        },
        "354479b133c44a2580c6d1945897d01d": {
          "model_module": "@jupyter-widgets/controls",
          "model_name": "HTMLModel",
          "model_module_version": "1.5.0",
          "state": {
            "_dom_classes": [],
            "_model_module": "@jupyter-widgets/controls",
            "_model_module_version": "1.5.0",
            "_model_name": "HTMLModel",
            "_view_count": null,
            "_view_module": "@jupyter-widgets/controls",
            "_view_module_version": "1.5.0",
            "_view_name": "HTMLView",
            "description": "",
            "description_tooltip": null,
            "layout": "IPY_MODEL_df21536bfd684f3c88ac1080c2f432e1",
            "placeholder": "​",
            "style": "IPY_MODEL_fef7a900df9840aeb126b47c103eefe9",
            "value": " 4/4 [00:41&lt;00:00,  7.82s/it]"
          }
        },
        "1abbb62946cd4c8aaa51a68465991a4d": {
          "model_module": "@jupyter-widgets/base",
          "model_name": "LayoutModel",
          "model_module_version": "1.2.0",
          "state": {
            "_model_module": "@jupyter-widgets/base",
            "_model_module_version": "1.2.0",
            "_model_name": "LayoutModel",
            "_view_count": null,
            "_view_module": "@jupyter-widgets/base",
            "_view_module_version": "1.2.0",
            "_view_name": "LayoutView",
            "align_content": null,
            "align_items": null,
            "align_self": null,
            "border": null,
            "bottom": null,
            "display": null,
            "flex": null,
            "flex_flow": null,
            "grid_area": null,
            "grid_auto_columns": null,
            "grid_auto_flow": null,
            "grid_auto_rows": null,
            "grid_column": null,
            "grid_gap": null,
            "grid_row": null,
            "grid_template_areas": null,
            "grid_template_columns": null,
            "grid_template_rows": null,
            "height": null,
            "justify_content": null,
            "justify_items": null,
            "left": null,
            "margin": null,
            "max_height": null,
            "max_width": null,
            "min_height": null,
            "min_width": null,
            "object_fit": null,
            "object_position": null,
            "order": null,
            "overflow": null,
            "overflow_x": null,
            "overflow_y": null,
            "padding": null,
            "right": null,
            "top": null,
            "visibility": null,
            "width": null
          }
        },
        "740f53c861134eaa9a4a1b204a74df0c": {
          "model_module": "@jupyter-widgets/base",
          "model_name": "LayoutModel",
          "model_module_version": "1.2.0",
          "state": {
            "_model_module": "@jupyter-widgets/base",
            "_model_module_version": "1.2.0",
            "_model_name": "LayoutModel",
            "_view_count": null,
            "_view_module": "@jupyter-widgets/base",
            "_view_module_version": "1.2.0",
            "_view_name": "LayoutView",
            "align_content": null,
            "align_items": null,
            "align_self": null,
            "border": null,
            "bottom": null,
            "display": null,
            "flex": null,
            "flex_flow": null,
            "grid_area": null,
            "grid_auto_columns": null,
            "grid_auto_flow": null,
            "grid_auto_rows": null,
            "grid_column": null,
            "grid_gap": null,
            "grid_row": null,
            "grid_template_areas": null,
            "grid_template_columns": null,
            "grid_template_rows": null,
            "height": null,
            "justify_content": null,
            "justify_items": null,
            "left": null,
            "margin": null,
            "max_height": null,
            "max_width": null,
            "min_height": null,
            "min_width": null,
            "object_fit": null,
            "object_position": null,
            "order": null,
            "overflow": null,
            "overflow_x": null,
            "overflow_y": null,
            "padding": null,
            "right": null,
            "top": null,
            "visibility": null,
            "width": null
          }
        },
        "83c24ab4ff8d4db8b9783c38c2335793": {
          "model_module": "@jupyter-widgets/controls",
          "model_name": "DescriptionStyleModel",
          "model_module_version": "1.5.0",
          "state": {
            "_model_module": "@jupyter-widgets/controls",
            "_model_module_version": "1.5.0",
            "_model_name": "DescriptionStyleModel",
            "_view_count": null,
            "_view_module": "@jupyter-widgets/base",
            "_view_module_version": "1.2.0",
            "_view_name": "StyleView",
            "description_width": ""
          }
        },
        "4c9e0eb4edb64fdd891816b3f73ad723": {
          "model_module": "@jupyter-widgets/base",
          "model_name": "LayoutModel",
          "model_module_version": "1.2.0",
          "state": {
            "_model_module": "@jupyter-widgets/base",
            "_model_module_version": "1.2.0",
            "_model_name": "LayoutModel",
            "_view_count": null,
            "_view_module": "@jupyter-widgets/base",
            "_view_module_version": "1.2.0",
            "_view_name": "LayoutView",
            "align_content": null,
            "align_items": null,
            "align_self": null,
            "border": null,
            "bottom": null,
            "display": null,
            "flex": null,
            "flex_flow": null,
            "grid_area": null,
            "grid_auto_columns": null,
            "grid_auto_flow": null,
            "grid_auto_rows": null,
            "grid_column": null,
            "grid_gap": null,
            "grid_row": null,
            "grid_template_areas": null,
            "grid_template_columns": null,
            "grid_template_rows": null,
            "height": null,
            "justify_content": null,
            "justify_items": null,
            "left": null,
            "margin": null,
            "max_height": null,
            "max_width": null,
            "min_height": null,
            "min_width": null,
            "object_fit": null,
            "object_position": null,
            "order": null,
            "overflow": null,
            "overflow_x": null,
            "overflow_y": null,
            "padding": null,
            "right": null,
            "top": null,
            "visibility": null,
            "width": null
          }
        },
        "891b74354bbd451cbf7cbdc5682433cd": {
          "model_module": "@jupyter-widgets/controls",
          "model_name": "ProgressStyleModel",
          "model_module_version": "1.5.0",
          "state": {
            "_model_module": "@jupyter-widgets/controls",
            "_model_module_version": "1.5.0",
            "_model_name": "ProgressStyleModel",
            "_view_count": null,
            "_view_module": "@jupyter-widgets/base",
            "_view_module_version": "1.2.0",
            "_view_name": "StyleView",
            "bar_color": null,
            "description_width": ""
          }
        },
        "df21536bfd684f3c88ac1080c2f432e1": {
          "model_module": "@jupyter-widgets/base",
          "model_name": "LayoutModel",
          "model_module_version": "1.2.0",
          "state": {
            "_model_module": "@jupyter-widgets/base",
            "_model_module_version": "1.2.0",
            "_model_name": "LayoutModel",
            "_view_count": null,
            "_view_module": "@jupyter-widgets/base",
            "_view_module_version": "1.2.0",
            "_view_name": "LayoutView",
            "align_content": null,
            "align_items": null,
            "align_self": null,
            "border": null,
            "bottom": null,
            "display": null,
            "flex": null,
            "flex_flow": null,
            "grid_area": null,
            "grid_auto_columns": null,
            "grid_auto_flow": null,
            "grid_auto_rows": null,
            "grid_column": null,
            "grid_gap": null,
            "grid_row": null,
            "grid_template_areas": null,
            "grid_template_columns": null,
            "grid_template_rows": null,
            "height": null,
            "justify_content": null,
            "justify_items": null,
            "left": null,
            "margin": null,
            "max_height": null,
            "max_width": null,
            "min_height": null,
            "min_width": null,
            "object_fit": null,
            "object_position": null,
            "order": null,
            "overflow": null,
            "overflow_x": null,
            "overflow_y": null,
            "padding": null,
            "right": null,
            "top": null,
            "visibility": null,
            "width": null
          }
        },
        "fef7a900df9840aeb126b47c103eefe9": {
          "model_module": "@jupyter-widgets/controls",
          "model_name": "DescriptionStyleModel",
          "model_module_version": "1.5.0",
          "state": {
            "_model_module": "@jupyter-widgets/controls",
            "_model_module_version": "1.5.0",
            "_model_name": "DescriptionStyleModel",
            "_view_count": null,
            "_view_module": "@jupyter-widgets/base",
            "_view_module_version": "1.2.0",
            "_view_name": "StyleView",
            "description_width": ""
          }
        }
      }
    }
  },
  "nbformat": 4,
  "nbformat_minor": 5
}