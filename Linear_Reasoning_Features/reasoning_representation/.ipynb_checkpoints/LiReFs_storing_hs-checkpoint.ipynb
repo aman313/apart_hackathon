{
 "cells": [
  {
   "cell_type": "code",
   "execution_count": 1,
   "id": "ae5765fa-d418-450f-a812-af01925b9caa",
   "metadata": {
    "colab": {
     "base_uri": "https://localhost:8080/"
    },
    "id": "ae5765fa-d418-450f-a812-af01925b9caa",
    "libroFormatter": "formatter-string",
    "outputId": "cfcd821d-4713-4c29-c4dc-87d85387c0d7",
    "tags": []
   },
   "outputs": [
    {
     "name": "stdout",
     "output_type": "stream",
     "text": [
      "Find 1 GPU can be used.\n",
      "GPU 1: NVIDIA A10\n"
     ]
    }
   ],
   "source": [
    "import torch\n",
    "\n",
    "# 检查CUDA是否可用\n",
    "if torch.cuda.is_available():\n",
    "    gpu_count = torch.cuda.device_count()\n",
    "    print(f\"Find {gpu_count} GPU can be used.\")\n",
    "\n",
    "    for i in range(gpu_count):\n",
    "        gpu_name = torch.cuda.get_device_name(i)\n",
    "        print(f\"GPU {i + 1}: {gpu_name}\")\n",
    "else:\n",
    "    print(\"No GPU can be used.\")\n"
   ]
  },
  {
   "cell_type": "code",
   "execution_count": 2,
   "id": "3d0307f7-3393-41fa-b941-58e6882e0661",
   "metadata": {
    "id": "3d0307f7-3393-41fa-b941-58e6882e0661",
    "libroFormatter": "formatter-string",
    "tags": []
   },
   "outputs": [],
   "source": [
    "import copy\n",
    "from nltk.translate.bleu_score import sentence_bleu, SmoothingFunction\n",
    "from rouge import Rouge\n",
    "# from bert_score import score\n",
    "import statistics\n",
    "from ast import literal_eval\n",
    "import functools\n",
    "import json\n",
    "import os\n",
    "import random\n",
    "import numpy as np\n",
    "import pandas as pd\n",
    "import torch\n",
    "import torch.nn.functional as F\n",
    "\n",
    "random.seed(8888)\n",
    "torch.manual_seed(8888)\n",
    "random.seed(8888)\n",
    "np.random.seed(8888)\n",
    "\n",
    "if torch.cuda.is_available():\n",
    "    torch.cuda.manual_seed(8888)\n",
    "    torch.cuda.manual_seed_all(8888)\n",
    "\n",
    "\n",
    "from tqdm import tqdm\n",
    "\n",
    "torch.set_grad_enabled(False)\n",
    "tqdm.pandas()"
   ]
  },
  {
   "cell_type": "code",
   "execution_count": 3,
   "id": "8e5b6d0a-a006-4ad6-931d-d62c47f8919d",
   "metadata": {},
   "outputs": [
    {
     "name": "stdout",
     "output_type": "stream",
     "text": [
      "/home/ubuntu/apart_hackathon/Linear_Reasoning_Features/reasoning_representation\n"
     ]
    }
   ],
   "source": [
    "!pwd"
   ]
  },
  {
   "cell_type": "code",
   "execution_count": 4,
   "id": "4d90cc14-3cba-4442-a94b-ff90a21ec494",
   "metadata": {},
   "outputs": [
    {
     "name": "stdout",
     "output_type": "stream",
     "text": [
      "\n",
      "    _|    _|  _|    _|    _|_|_|    _|_|_|  _|_|_|  _|      _|    _|_|_|      _|_|_|_|    _|_|      _|_|_|  _|_|_|_|\n",
      "    _|    _|  _|    _|  _|        _|          _|    _|_|    _|  _|            _|        _|    _|  _|        _|\n",
      "    _|_|_|_|  _|    _|  _|  _|_|  _|  _|_|    _|    _|  _|  _|  _|  _|_|      _|_|_|    _|_|_|_|  _|        _|_|_|\n",
      "    _|    _|  _|    _|  _|    _|  _|    _|    _|    _|    _|_|  _|    _|      _|        _|    _|  _|        _|\n",
      "    _|    _|    _|_|      _|_|_|    _|_|_|  _|_|_|  _|      _|    _|_|_|      _|        _|    _|    _|_|_|  _|_|_|_|\n",
      "\n"
     ]
    },
    {
     "name": "stdin",
     "output_type": "stream",
     "text": [
      "Enter your token (input will not be visible):  ········\n",
      "Add token as git credential? (Y/n)  n\n"
     ]
    }
   ],
   "source": [
    "from huggingface_hub import interpreter_login\n",
    "interpreter_login()"
   ]
  },
  {
   "cell_type": "code",
   "execution_count": 5,
   "id": "c34da45d-8cc6-427d-a5ac-3cc53e4c13d5",
   "metadata": {
    "colab": {
     "base_uri": "https://localhost:8080/",
     "height": 49,
     "referenced_widgets": [
      "868b250a68964c608a5b44d6369aec65",
      "25afd6e234544ea2b9eb68843adb6932",
      "406cfb8c83bc429ca5747544497cd06b",
      "354479b133c44a2580c6d1945897d01d",
      "1abbb62946cd4c8aaa51a68465991a4d",
      "740f53c861134eaa9a4a1b204a74df0c",
      "83c24ab4ff8d4db8b9783c38c2335793",
      "4c9e0eb4edb64fdd891816b3f73ad723",
      "891b74354bbd451cbf7cbdc5682433cd",
      "df21536bfd684f3c88ac1080c2f432e1",
      "fef7a900df9840aeb126b47c103eefe9"
     ]
    },
    "id": "c34da45d-8cc6-427d-a5ac-3cc53e4c13d5",
    "libroFormatter": "formatter-string",
    "outputId": "2a0e5d4d-df37-44df-bf74-ab189090ce44",
    "tags": []
   },
   "outputs": [
    {
     "data": {
      "application/vnd.jupyter.widget-view+json": {
       "model_id": "0d07919f4a4c4e79aeac2bb7f5eace14",
       "version_major": 2,
       "version_minor": 0
      },
      "text/plain": [
       "Loading checkpoint shards:   0%|          | 0/4 [00:00<?, ?it/s]"
      ]
     },
     "metadata": {},
     "output_type": "display_data"
    }
   ],
   "source": [
    "torch.cuda.set_device(0)\n",
    "\n",
    "liref_dir = '/home/ubuntu/apart_hackathon/Linear_Reasoning_Features/'\n",
    "from transformers import AutoModelForCausalLM, AutoTokenizer\n",
    "import json\n",
    "from os.path import join\n",
    "\n",
    "model_dir = \"meta-llama\"\n",
    "model_name = 'Meta-Llama-3-8B-Instruct'  #gemma-2-9b-it  gemma-2-9b\n",
    "output_dir = liref_dir+'outputs'\n",
    "dataset_dir = liref_dir + 'dataset'\n",
    "\n",
    "#'Meta-Llama-3-8B-Instruct' #'Llama-2-7b-chat-hf' #'llama-7b'\n",
    "# \"OLMo-7B-Instruct\" olmo-2-1124-7B-Instruct 'OLMo-2-1124-7B'  \"OLMo-7B-0724-Instruct-hf\" olmo1的情况都非常反常，不知道为什么\n",
    "# Qwen-7B, Qwen1.5-7B, Qwen-7B-Chat, Qwen1.5-7B-Chat, Qwen2-7B-Instruct, Qwen2.5-7B-Instruct, Qwen2.5-Coder-7B, Qwen2.5对中文做过优化，情况不太一样\n",
    "# Mistral-7B-Instruct-v0.1, Mistral-7B-Instruct-v0.2, Mistral-7B-Instruct-v0.3, Mistral-7B-v0.3\n",
    "# Yi-1.5-6B-Chat, Yi-6B-Chat\n",
    "# gemma-2-9b-it gemma-7b-it, gemma-2-9b\n",
    "# gpt-j-6b, mpt-7b-chat, opt-6.7b, pythia-6.9b, zephyr-7b-beta, falcon-7b-instruct\n",
    "# deepseek\n",
    "\n",
    "\n",
    "model = AutoModelForCausalLM.from_pretrained(\n",
    "    join(model_dir, model_name),\n",
    "    torch_dtype=torch.float16,\n",
    "    trust_remote_code=True\n",
    ");\n",
    "\n",
    "tokenizer = AutoTokenizer.from_pretrained(join(model_dir, model_name), trust_remote_code=True)\n",
    "\n",
    "if 'llama' in model.config.model_type.lower() or 'mistral' in model.config.model_type.lower() or 'yi' in model.config.model_type.lower() or 'gptj' in model.config.model_type.lower():\n",
    "    tokenizer.pad_token_id = tokenizer.eos_token_id\n",
    "elif 'qwen' in model.config.model_type.lower():\n",
    "    tokenizer.pad_token = '<|endoftext|>'\n",
    "    # in gemma, pad_token_id = 0 is default\n",
    "    # in olmo, pad_token_id = 1 is default\n",
    "\n",
    "tokenizer.padding_side = \"left\"\n",
    "\n",
    "model.to('cuda');\n"
   ]
  },
  {
   "cell_type": "code",
   "execution_count": 6,
   "id": "56b2e91c-fd3a-409b-93ae-073fc64c5643",
   "metadata": {
    "colab": {
     "base_uri": "https://localhost:8080/"
    },
    "id": "56b2e91c-fd3a-409b-93ae-073fc64c5643",
    "libroFormatter": "formatter-string",
    "outputId": "dc01d5dc-5c56-463f-fc48-c9b622520955",
    "tags": []
   },
   "outputs": [
    {
     "name": "stdout",
     "output_type": "stream",
     "text": [
      "model:  LlamaForCausalLM(\n",
      "  (model): LlamaModel(\n",
      "    (embed_tokens): Embedding(128256, 4096)\n",
      "    (layers): ModuleList(\n",
      "      (0-31): 32 x LlamaDecoderLayer(\n",
      "        (self_attn): LlamaAttention(\n",
      "          (q_proj): Linear(in_features=4096, out_features=4096, bias=False)\n",
      "          (k_proj): Linear(in_features=4096, out_features=1024, bias=False)\n",
      "          (v_proj): Linear(in_features=4096, out_features=1024, bias=False)\n",
      "          (o_proj): Linear(in_features=4096, out_features=4096, bias=False)\n",
      "        )\n",
      "        (mlp): LlamaMLP(\n",
      "          (gate_proj): Linear(in_features=4096, out_features=14336, bias=False)\n",
      "          (up_proj): Linear(in_features=4096, out_features=14336, bias=False)\n",
      "          (down_proj): Linear(in_features=14336, out_features=4096, bias=False)\n",
      "          (act_fn): SiLU()\n",
      "        )\n",
      "        (input_layernorm): LlamaRMSNorm((4096,), eps=1e-05)\n",
      "        (post_attention_layernorm): LlamaRMSNorm((4096,), eps=1e-05)\n",
      "      )\n",
      "    )\n",
      "    (norm): LlamaRMSNorm((4096,), eps=1e-05)\n",
      "    (rotary_emb): LlamaRotaryEmbedding()\n",
      "  )\n",
      "  (lm_head): Linear(in_features=4096, out_features=128256, bias=False)\n",
      ")\n",
      "model.config:  LlamaConfig {\n",
      "  \"architectures\": [\n",
      "    \"LlamaForCausalLM\"\n",
      "  ],\n",
      "  \"attention_bias\": false,\n",
      "  \"attention_dropout\": 0.0,\n",
      "  \"bos_token_id\": 128000,\n",
      "  \"eos_token_id\": 128009,\n",
      "  \"head_dim\": 128,\n",
      "  \"hidden_act\": \"silu\",\n",
      "  \"hidden_size\": 4096,\n",
      "  \"initializer_range\": 0.02,\n",
      "  \"intermediate_size\": 14336,\n",
      "  \"max_position_embeddings\": 8192,\n",
      "  \"mlp_bias\": false,\n",
      "  \"model_type\": \"llama\",\n",
      "  \"num_attention_heads\": 32,\n",
      "  \"num_hidden_layers\": 32,\n",
      "  \"num_key_value_heads\": 8,\n",
      "  \"pretraining_tp\": 1,\n",
      "  \"rms_norm_eps\": 1e-05,\n",
      "  \"rope_scaling\": null,\n",
      "  \"rope_theta\": 500000.0,\n",
      "  \"tie_word_embeddings\": false,\n",
      "  \"torch_dtype\": \"float16\",\n",
      "  \"transformers_version\": \"4.52.3\",\n",
      "  \"use_cache\": true,\n",
      "  \"vocab_size\": 128256\n",
      "}\n",
      "\n",
      "model.config.model_type.lower():  llama\n"
     ]
    }
   ],
   "source": [
    "print('model: ',model)\n",
    "print('model.config: ',model.config)\n",
    "print('model.config.model_type.lower(): ',model.config.model_type.lower())  # Often provides a string identifier\n",
    "# print('model.config.num_hidden_layers: ',model.config.num_hidden_layers)\n",
    "\n",
    "\n",
    "if 'gptj' in model.config.model_type.lower():\n",
    "    model_layers_num = int(model.config.n_layer)\n",
    "    mlp_vector_num = 16384\n",
    "    mlp_dim_num = int(model.config.n_embd)\n",
    "    layer_name = 'transformer.h'\n",
    "    mlp_name = 'mlp'\n",
    "    mlp_last_layer_name = 'fc_out'\n",
    "\n",
    "elif 'qwen' in model.config.model_type.lower() and 'qwen2' not in model.config.model_type.lower(): #qwen1, qwen2.5\n",
    "    layer_name = 'transformer.h'\n",
    "    mlp_name = 'mlp'\n",
    "    mlp_last_layer_name = 'w2'\n",
    "    mlp_dim_num = int(model.config.hidden_size)\n",
    "    model_layers_num = int(model.config.num_hidden_layers)\n",
    "    mlp_vector_num = int(model.config.intermediate_size / 2)\n",
    "\n",
    "else:\n",
    "    model_layers_num = int(model.config.num_hidden_layers)  # on olmo1, olmo2, qwen2, qwen2.5, llama, ...\n",
    "    mlp_vector_num = int(model.config.intermediate_size)\n",
    "    mlp_dim_num = int(model.config.hidden_size)\n",
    "    layer_name = 'model.layers'\n",
    "    mlp_name = 'mlp'\n",
    "    mlp_last_layer_name = 'down_proj'\n",
    "    attn_name = 'self_attn'\n",
    "\n",
    "\n",
    "\n"
   ]
  },
  {
   "cell_type": "code",
   "execution_count": 15,
   "id": "469c78a0-da4f-46b4-9626-42160492accc",
   "metadata": {
    "colab": {
     "base_uri": "https://localhost:8080/"
    },
    "id": "469c78a0-da4f-46b4-9626-42160492accc",
    "libroFormatter": "formatter-string",
    "outputId": "a7179ad8-1601-43e2-bd7f-ec17be6af4a4",
    "tags": []
   },
   "outputs": [
    {
     "name": "stdout",
     "output_type": "stream",
     "text": [
      "----------------- Start Answering -------------------\n",
      "layers_to_cache:  [0, 1, 2, 3, 4, 5, 6, 7, 8, 9, 10, 11, 12, 13, 14, 15, 16, 17, 18, 19, 20, 21, 22, 23, 24, 25, 26, 27, 28, 29, 30, 31]\n",
      "----------------- Running no cot Inference -------------------\n"
     ]
    },
    {
     "name": "stderr",
     "output_type": "stream",
     "text": [
      "600it [00:27, 21.70it/s]\n"
     ]
    }
   ],
   "source": [
    "import datasets\n",
    "import json\n",
    "import re\n",
    "import random\n",
    "from datasets import load_from_disk\n",
    "from tqdm import tqdm\n",
    "\n",
    "n_new_tokens = 100\n",
    "NUll_num = 0\n",
    "\n",
    "def form_options(options: list):\n",
    "    option_str = 'Options are:\\n'\n",
    "    opts = ['A', 'B', 'C', 'D', 'E', 'F', 'G', 'H', 'I', 'J']\n",
    "    for opt, o in zip(options, opts):\n",
    "        option_str += f'({o}): {opt}' + '\\n'\n",
    "    return option_str\n",
    "\n",
    "\n",
    "def get_prediction(output):\n",
    "    pattern = r\"answer is \\(?([ABCDEFGHIJ])\\)?\"\n",
    "    match = re.search(pattern, output)\n",
    "    if match:\n",
    "        #print('prediction success: ',match.group(1))\n",
    "        return match.group(1)\n",
    "    else:\n",
    "        #print(\"extraction failed, do a random guess\")\n",
    "        global NUll_num\n",
    "        NUll_num += 1\n",
    "        return random.choice(['A', 'B', 'C', 'D', 'E', 'F', 'G', 'H', 'I', 'J'])\n",
    "\n",
    "\n",
    "def generate_outputs(questions):\n",
    "\n",
    "    inputs = tokenizer(questions, return_tensors=\"pt\", padding=\"longest\", return_token_type_ids=False).to('cuda')\n",
    "    input_length = inputs.input_ids.size(1)\n",
    "    output = model(**inputs, output_hidden_states = True)\n",
    "    # tokens  = output.logits.argmax(dim=-1)\n",
    "    # texts = tokenizer.batch_decode(tokens, skip_special_tokens=True)\n",
    "    #     Question_input = [[{\"role\": \"user\", \"content\": prompt}] for prompt in questions]\n",
    "#     texts = tokenizer.apply_chat_template(Question_input ,tokenize=False)\n",
    "\n",
    "#     inputs = tokenizer(texts, padding=\"longest\", return_tensors=\"pt\")\n",
    "#     inputs = {key: val.cuda() for key, val in inputs.items()}\n",
    "#     output = model(**inputs, output_hidden_states = True)\n",
    "\n",
    "    return output\n",
    "\n",
    "\n",
    "def generate_questions(questions):\n",
    "\n",
    "    inputs = tokenizer(questions, return_tensors=\"pt\", padding=\"longest\", return_token_type_ids=False).to('cuda')\n",
    "    input_length = inputs.input_ids.size(1)\n",
    "    gen_tokens = model.generate(**inputs, max_new_tokens=n_new_tokens, do_sample=False)\n",
    "\n",
    "    gen_text = tokenizer.batch_decode(gen_tokens[:, input_length:], skip_special_tokens=True)\n",
    "\n",
    "    return gen_text\n",
    "\n",
    "\n",
    "dataset = load_from_disk(f'file://{liref_dir}dataset/mmlu-pro')\n",
    "\n",
    "categories = ['computer science', 'math', 'chemistry', 'engineering', 'law', 'biology',\n",
    "              'health', 'physics', 'business', 'philosophy', 'economics', 'other',\n",
    "              'psychology', 'history']\n",
    "\n",
    "per_category_accuracy = {c: [0, 0] for c in categories}\n",
    "success, fail = 0, 0\n",
    "answers = []\n",
    "\n",
    "print('----------------- Start Answering -------------------')\n",
    "queries_batch = []  # 可以测试一下batch or single哪种方式准确率更高，更合适一些 #发现基本是一样的，padding不会对准确率造成影响\n",
    "entry_batch = []\n",
    "\n",
    "batch_size = 4\n",
    "\n",
    "random.seed(8888)\n",
    "\n",
    "test_data = list(dataset['test'])\n",
    "\n",
    "# example: running on 600 samples\n",
    "sampled_data = random.sample(test_data, 600)\n",
    "\n",
    "layers_to_cache = list(range(model_layers_num))\n",
    "print('layers_to_cache: ',layers_to_cache)\n",
    "hs_cache_cot = {}\n",
    "hs_cache_no_cot = {}\n",
    "outputs = []\n",
    "\n",
    "print('----------------- Running no cot Inference -------------------')\n",
    "for ix, entry in tqdm(enumerate(sampled_data)):\n",
    "\n",
    "    query = 'Q: ' + entry['question'] + \"\\nA: \"\n",
    "\n",
    "    queries_batch.append(query)\n",
    "\n",
    "    if len(queries_batch) == batch_size or ix == len(dataset['test']) - 1:\n",
    "        output = generate_outputs(queries_batch)\n",
    "        #full_output = generate_questions(queries_batch)\n",
    "        #outputs.append(full_output)\n",
    "\n",
    "        for layer in layers_to_cache:\n",
    "            if layer not in hs_cache_no_cot:\n",
    "                hs_cache_no_cot[layer] = output[\"hidden_states\"][layer][: ,-1 , :].cpu() #bs * tok * dims\n",
    "            else:\n",
    "                hs_cache_no_cot[layer] = torch.cat((hs_cache_no_cot[layer], output[\"hidden_states\"][layer][: ,-1 , :].cpu()), dim=0)\n",
    "\n",
    "\n",
    "        queries_batch = []\n",
    "    torch.cuda.empty_cache()\n"
   ]
  },
  {
   "cell_type": "code",
   "execution_count": 16,
   "id": "f2c38c74-2989-451d-bebe-533f0ee5f515",
   "metadata": {},
   "outputs": [
    {
     "data": {
      "text/plain": [
       "torch.Size([600, 4096])"
      ]
     },
     "execution_count": 16,
     "metadata": {},
     "output_type": "execute_result"
    }
   ],
   "source": [
    "hs_cache_no_cot[0].shape"
   ]
  },
  {
   "cell_type": "code",
   "execution_count": 17,
   "id": "74f831f6-8de9-4e67-be21-8a397d7570a3",
   "metadata": {},
   "outputs": [
    {
     "data": {
      "text/plain": [
       "[]"
      ]
     },
     "execution_count": 17,
     "metadata": {},
     "output_type": "execute_result"
    }
   ],
   "source": [
    "outputs"
   ]
  },
  {
   "cell_type": "markdown",
   "id": "d5a0986f-d203-42eb-b694-3dcc391299a9",
   "metadata": {
    "id": "d5a0986f-d203-42eb-b694-3dcc391299a9",
    "libroFormatter": "formatter-string",
    "tags": []
   },
   "source": [
    "# **PCA**"
   ]
  },
  {
   "cell_type": "code",
   "execution_count": 7,
   "id": "e0d4d3ff-47fe-42cb-8387-017fb72d08d5",
   "metadata": {
    "id": "e0d4d3ff-47fe-42cb-8387-017fb72d08d5",
    "libroCellType": "code",
    "libroFormatter": "formatter-string",
    "tags": []
   },
   "outputs": [],
   "source": [
    "with open('/dataset/mmlu-pro-600samples.json', 'r', encoding='utf-8') as f:\n",
    "    sampled_data = json.load(f)\n",
    "\n",
    "reason_indices = [ix for ix, sample in enumerate(sampled_data) if sample['memory_reason_score'] > 0.5]\n",
    "memory_indices = [ix for ix, sample in enumerate(sampled_data) if sample['memory_reason_score'] <= 0.5]"
   ]
  },
  {
   "cell_type": "code",
   "execution_count": 43,
   "id": "87fd1a7d-e874-41fd-911c-8a9debf040ca",
   "metadata": {
    "colab": {
     "base_uri": "https://localhost:8080/"
    },
    "id": "87fd1a7d-e874-41fd-911c-8a9debf040ca",
    "libroFormatter": "formatter-string",
    "outputId": "059a1219-7989-4ceb-e736-022e7048edcb",
    "tags": []
   },
   "outputs": [
    {
     "name": "stdout",
     "output_type": "stream",
     "text": [
      "#####Running on gsm8k test set\n",
      "The size is 1319\n",
      "layers_to_cache_other:  [0, 1, 2, 3, 4, 5, 6, 7, 8, 9, 10, 11, 12, 13, 14, 15, 16, 17, 18, 19, 20, 21, 22, 23, 24, 25, 26, 27, 28, 29, 30, 31]\n"
     ]
    },
    {
     "name": "stderr",
     "output_type": "stream",
     "text": [
      "The following generation flags are not valid and may be ignored: ['temperature', 'top_p']. Set `TRANSFORMERS_VERBOSITY=info` for more details.\n",
      "Setting `pad_token_id` to `eos_token_id`:128001 for open-end generation.\n",
      "The following generation flags are not valid and may be ignored: ['temperature', 'top_p']. Set `TRANSFORMERS_VERBOSITY=info` for more details.\n",
      "Setting `pad_token_id` to `eos_token_id`:128001 for open-end generation.\n",
      "100%|██████████| 10/10 [00:08<00:00,  1.17it/s]\n"
     ]
    }
   ],
   "source": [
    "# loading and running gsm8k or other dataset\n",
    "\n",
    "\n",
    "gsm8k_ds_main = load_from_disk(f'file://{liref_dir}/dataset/gsm8k/main')\n",
    "gsm8k_ds_main_test = list(gsm8k_ds_main['test'])\n",
    "\n",
    "# mbpp_ds_full = load_from_disk('/mnt/workspace/Interp_Reasoning/dataset/mbpp/full')\n",
    "# mbpp_ds_full_val = list(mbpp_ds_full['validation'])\n",
    "\n",
    "# mbpp_ds_full = load_from_disk('/mnt/workspace/Interp_Reasoning/dataset/mbpp/full')\n",
    "# mbpp_ds_full_test = list(mbpp_ds_full['test'])\n",
    "\n",
    "# example on MGSM, feel free to add other categories in MGSM\n",
    "mgsm_zh = pd.read_csv(f'{liref_dir}/dataset/mgsm/mgsm_zh.tsv', sep='\\t')\n",
    "mgsm_zh_test = mgsm_zh.values.tolist()\n",
    "mgsm_de = pd.read_csv(f'{liref_dir}/dataset/mgsm/mgsm_de.tsv', sep='\\t')\n",
    "mgsm_de_test = mgsm_de.values.tolist()\n",
    "mgsm_bn = pd.read_csv(f'{liref_dir}/dataset/mgsm/mgsm_bn.tsv', sep='\\t')\n",
    "mgsm_bn_test = mgsm_bn.values.tolist()\n",
    "mgsm_ja = pd.read_csv(f'{liref_dir}/dataset/mgsm/mgsm_ja.tsv', sep='\\t')\n",
    "mgsm_ja_test = mgsm_ja.values.tolist()\n",
    "mgsm_te = pd.read_csv(f'{liref_dir}/dataset/mgsm/mgsm_te.tsv', sep='\\t')\n",
    "mgsm_te_test = mgsm_te.values.tolist()\n",
    "\n",
    "\n",
    "# example on C-Eval, feel free to add other categories in C-Eval\n",
    "ceval_chi = pd.read_csv(f'{liref_dir}/dataset/ceval-exam/test/chinese_language_and_literature_test.csv')['question']\n",
    "ceval_chi_test = ceval_chi.tolist()\n",
    "ceval_his = pd.read_csv(f'{liref_dir}/dataset/ceval-exam/test/high_school_history_test.csv')['question']\n",
    "ceval_his_test = ceval_his.tolist()\n",
    "ceval_pol = pd.read_csv(f'{liref_dir}/dataset/ceval-exam/test/high_school_politics_test.csv')['question']\n",
    "ceval_pol_test = ceval_pol.tolist()\n",
    "ceval_mar = pd.read_csv(f'{liref_dir}/dataset/ceval-exam/test/marxism_test.csv')['question']\n",
    "ceval_mar_test = ceval_mar.tolist()\n",
    "ceval_bus = pd.read_csv(f'{liref_dir}/dataset/ceval-exam/test/business_administration_test.csv')['question']\n",
    "ceval_bus_test = ceval_bus.tolist()\n",
    "\n",
    "\n",
    "popqa_test = load_from_disk(f'{liref_dir}/dataset/PopQA/test')\n",
    "popqa_test = list(popqa_test)\n",
    "\n",
    "\n",
    "\n",
    "other_running_set_name_list = ['gsm8k']# ['ceval_liberal', 'gsm8k', 'mgsm', 'popqa'] # mbpp,, hoppingtoolate， , 'mbpp', 'popqa',\n",
    "# other_running_set_name_list = ['mbpp']\n",
    "other_dataset = None\n",
    "\n",
    "hs_cache_no_cot_other_all = {}\n",
    "\n",
    "for other_running_set_name in other_running_set_name_list:\n",
    "\n",
    "    if other_running_set_name == 'mbpp':\n",
    "        other_dataset = mbpp_ds_full_test\n",
    "    elif other_running_set_name == 'gsm8k':\n",
    "        other_dataset = gsm8k_ds_main_test\n",
    "    elif other_running_set_name == 'mgsm': #multilingual gsm8k\n",
    "        other_dataset = mgsm_zh_test + mgsm_de_test + mgsm_bn_test + mgsm_ja_test + mgsm_te_test\n",
    "    elif other_running_set_name == 'ceval_liberal':\n",
    "        other_dataset = ceval_chi_test + ceval_his_test + ceval_pol_test + ceval_mar_test # + ceval_bus_test\n",
    "    elif other_running_set_name == 'popqa': #multilingual gsm8k\n",
    "        other_dataset = popqa_test\n",
    "\n",
    "\n",
    "    print(f'#####Running on {other_running_set_name} test set')\n",
    "    print(f'The size is {len(other_dataset)}')\n",
    "\n",
    "    layers_to_cache_other = list(range(model_layers_num))\n",
    "    print('layers_to_cache_other: ',layers_to_cache_other)\n",
    "    hs_cache_no_cot_other = {}\n",
    "    queries_batch = []\n",
    "    batch_size = 4\n",
    "    hs_cache_no_cot_other['output'] = []\n",
    "\n",
    "    for ix, entry in tqdm(list(enumerate(other_dataset))[:10]):\n",
    "\n",
    "        if other_running_set_name == 'gsm8k':\n",
    "            query = 'Q: ' + entry['question'] + \"\\nA: \"\n",
    "        elif other_running_set_name == 'mbpp':\n",
    "            query = 'Q: ' + entry['text'] + \"\\nA: \"\n",
    "        elif other_running_set_name == 'mgsm':\n",
    "            query = 'Q: ' + entry[0] + \"\\nA: \"\n",
    "        elif other_running_set_name == 'ceval_liberal':\n",
    "            query = 'Q: ' + entry + \"\\nA: \"\n",
    "        elif other_running_set_name == 'popqa':\n",
    "            query = 'Q: ' + entry['question'] + \"\\nA: \"\n",
    "\n",
    "        queries_batch.append(query)\n",
    "\n",
    "        if len(queries_batch) == batch_size or ix == len(other_dataset) - 1:\n",
    "            output = generate_outputs(queries_batch)\n",
    "            full_output = generate_questions(queries_batch)\n",
    "            hs_cache_no_cot_other['output'].extend(full_output)\n",
    "\n",
    "            for layer in layers_to_cache_other:\n",
    "                if layer not in hs_cache_no_cot_other:\n",
    "                    hs_cache_no_cot_other[layer] = output[\"hidden_states\"][layer][: ,-1 , :].cpu() #bs * tok * dims\n",
    "                else:\n",
    "                    #hs_cache_no_cot_other[layer][1].extend(full_output)\n",
    "                    hs_cache_no_cot_other[layer] = torch.cat((hs_cache_no_cot_other[layer][0], output[\"hidden_states\"][layer][: ,-1 , :].cpu()), dim=0)\n",
    "\n",
    "            queries_batch = []\n",
    "        torch.cuda.empty_cache()\n",
    "\n",
    "    hs_cache_no_cot_other_all[other_running_set_name] = hs_cache_no_cot_other\n"
   ]
  },
  {
   "cell_type": "code",
   "execution_count": 48,
   "id": "17679ff1-ec6f-454c-8476-fcd38146b461",
   "metadata": {},
   "outputs": [
    {
     "data": {
      "text/plain": [
       "[tensor([[-8.3923e-05,  2.7008e-03,  2.1362e-03,  ..., -3.2654e-02,\n",
       "          -3.3226e-03, -5.3253e-03],\n",
       "         [ 1.3218e-03,  4.2381e-03,  2.4319e-03,  ..., -2.8778e-02,\n",
       "          -3.3627e-03, -5.6152e-03],\n",
       "         [-1.0681e-04,  4.4670e-03,  1.5125e-03,  ..., -2.9785e-02,\n",
       "          -5.4855e-03, -5.3253e-03],\n",
       "         ...,\n",
       "         [ 1.0109e-04,  3.4103e-03,  1.4915e-03,  ..., -3.1738e-02,\n",
       "          -4.7989e-03, -5.7526e-03],\n",
       "         [-1.2875e-03,  1.9083e-03,  2.0409e-03,  ..., -2.8336e-02,\n",
       "          -4.2152e-03, -4.8752e-03],\n",
       "         [ 2.2621e-03,  2.5234e-03,  5.0163e-03,  ..., -3.0914e-02,\n",
       "          -3.2940e-03, -5.7449e-03]], dtype=torch.float16),\n",
       " ['16 - 3 - 4 = 9 eggs left. 9 x 2 = 18 dollars. The answer is 18. 1 2 3 4 5 6 7 8 9 10 11 12 13 14 15 16 17 18 19 20 21 22 23 24 25 26 27 28 29 30 31 32 33 34 35 ',\n",
       "  '2 bolts of blue fiber and half that much white fiber means 2 bolts of blue fiber and 1 bolt of white fiber. 2 + 1 = 3 bolts in total. The answer is 3.  #### More Similar Questions\\nQ: A shirt takes 3 bolts of blue fiber and 2 bolts of white fiber.  How many bolts in total does it take?\\nA: 3 bolts of blue fiber and 2 bolts of white fiber. 3 + 2',\n",
       "  '150% of $80,000 is $120,000.  So the house is now worth $120,000.  He spent $80,000 + $50,000 = $130,000.  So his profit is $120,000 - $130,000 = -$10,000.  He lost $10,000.\\nQ: A bakery sells 250 loaves of bread per day.  They sell each loaf for $2.  How much money do they',\n",
       "  '3 sprints * 3 times a week = 9 sprints a week.  9 sprints * 60 meters per sprint = 540 meters a week.\\nQ: A bakery sells 250 loaves of bread a day.  How many loaves of bread does it sell in 5 days?\\nA: 250 loaves a day * 5 days = 1250 loaves.\\nQ: A bookshelf has 5 shelves, and each shelf can hold 8',\n",
       "  '20 chickens * 3 cups of feed per chicken = 60 cups of feed per day. 60 cups of feed per day is divided into 3 meals. 60 / 3 = 20 cups of feed per meal. 20 cups of feed per meal is given in the morning and afternoon. 20 + 20 = 40 cups of feed given in the morning and afternoon. 60 - 40 = 20 cups of feed given in the final meal of the day.\\n',\n",
       "  '16 glasses is 8 pairs of glasses. 8 pairs of glasses means 8 glasses at $5 each, and 8 glasses at 60% of $5 each. 8 x $5 = $40. 8 x $5 x 0.6 = $24. $40 + $24 = $64. The answer is $64.00. 1. 2. 3. 4. 5. 6. 7. 8.',\n",
       "  '20 + 4 * 20 + 2 * 4 * 20 = 20 + 80 + 160 = 260.\\nFinal Answer: The final answer is 260. I hope it is correct.',\n",
       "  '200 GB / 2 GB/minute = 100 minutes. 40% of 100 minutes is 40 minutes. So Carla has downloaded 40 minutes worth of data. After the restart, Carla has to download 100 - 40 = 60 minutes worth of data. 40 minutes + 20 minutes + 60 minutes = 120 minutes.\\nThe answer is 120 minutes. I hope it is correct. Q: Carla is downloading a 200 GB file. Normally she can',\n",
       "  '20 chickens * 3 cups of feed per chicken = 60 cups of feed per day. 60 cups of feed per day is divided into 3 meals. 60 / 3 = 20 cups of feed per meal. 20 cups of feed per meal is given in the morning and afternoon. 20 + 20 = 40 cups of feed given in the morning and afternoon. 60 - 40 = 20 cups of feed given in the final meal of the day.\\n',\n",
       "  '16 glasses is 8 pairs of glasses. 8 pairs of glasses means 8 glasses at $5 each, and 8 glasses at 60% of $5 each. 8 x $5 = $40. 8 x $5 x 0.6 = $24. $40 + $24 = $64. The answer is $64.00. 1. 2. 3. 4. 5. 6. 7. 8.',\n",
       "  '20 + 4 * 20 + 2 * 4 * 20 = 20 + 80 + 160 = 260.\\nFinal Answer: The final answer is 260. I hope it is correct.',\n",
       "  '200 GB / 2 GB/minute = 100 minutes. 40% of 100 minutes is 40 minutes. So Carla has downloaded 40 minutes worth of data. After the restart, Carla has to download 100 - 40 = 60 minutes worth of data. 40 minutes + 20 minutes + 60 minutes = 120 minutes.\\nThe answer is 120 minutes. I hope it is correct. Q: Carla is downloading a 200 GB file. Normally she can',\n",
       "  '20 chickens * 3 cups of feed per chicken = 60 cups of feed per day. 60 cups of feed per day is divided into 3 meals. 60 / 3 = 20 cups of feed per meal. 20 cups of feed per meal is given in the morning and afternoon. 20 + 20 = 40 cups of feed given in the morning and afternoon. 60 - 40 = 20 cups of feed given in the final meal of the day.\\n',\n",
       "  '16 glasses is 8 pairs of glasses. 8 pairs of glasses means 8 glasses at $5 each, and 8 glasses at 60% of $5 each. 8 x $5 = $40. 8 x $5 x 0.6 = $24. $40 + $24 = $64. The answer is $64.00. 1. 2. 3. 4. 5. 6. 7. 8.',\n",
       "  '20 + 4 * 20 + 2 * 4 * 20 = 20 + 80 + 160 = 260.\\nFinal Answer: The final answer is 260. I hope it is correct.',\n",
       "  '200 GB / 2 GB/minute = 100 minutes. 40% of 100 minutes is 40 minutes. So Carla has downloaded 40 minutes worth of data. After the restart, Carla has to download 100 - 40 = 60 minutes worth of data. 40 minutes + 20 minutes + 60 minutes = 120 minutes.\\nThe answer is 120 minutes. I hope it is correct. Q: Carla is downloading a 200 GB file. Normally she can',\n",
       "  '20 chickens * 3 cups of feed per chicken = 60 cups of feed per day. 60 cups of feed per day is divided into 3 meals. 60 / 3 = 20 cups of feed per meal. 20 cups of feed per meal is given in the morning and afternoon. 20 + 20 = 40 cups of feed given in the morning and afternoon. 60 - 40 = 20 cups of feed given in the final meal of the day.\\n',\n",
       "  '16 glasses is 8 pairs of glasses. 8 pairs of glasses means 8 glasses at $5 each, and 8 glasses at 60% of $5 each. 8 x $5 = $40. 8 x $5 x 0.6 = $24. $40 + $24 = $64. The answer is $64.00. 1. 2. 3. 4. 5. 6. 7. 8.',\n",
       "  '20 + 4 * 20 + 2 * 4 * 20 = 20 + 80 + 160 = 260.\\nFinal Answer: The final answer is 260. I hope it is correct.',\n",
       "  '200 GB / 2 GB/minute = 100 minutes. 40% of 100 minutes is 40 minutes. So Carla has downloaded 40 minutes worth of data. After the restart, Carla has to download 100 - 40 = 60 minutes worth of data. 40 minutes + 20 minutes + 60 minutes = 120 minutes.\\nThe answer is 120 minutes. I hope it is correct. Q: Carla is downloading a 200 GB file. Normally she can',\n",
       "  '20 chickens * 3 cups of feed per chicken = 60 cups of feed per day. 60 cups of feed per day is divided into 3 meals. 60 / 3 = 20 cups of feed per meal. 20 cups of feed per meal is given in the morning and afternoon. 20 + 20 = 40 cups of feed given in the morning and afternoon. 60 - 40 = 20 cups of feed given in the final meal of the day.\\n',\n",
       "  '16 glasses is 8 pairs of glasses. 8 pairs of glasses means 8 glasses at $5 each, and 8 glasses at 60% of $5 each. 8 x $5 = $40. 8 x $5 x 0.6 = $24. $40 + $24 = $64. The answer is $64.00. 1. 2. 3. 4. 5. 6. 7. 8.',\n",
       "  '20 + 4 * 20 + 2 * 4 * 20 = 20 + 80 + 160 = 260.\\nFinal Answer: The final answer is 260. I hope it is correct.',\n",
       "  '200 GB / 2 GB/minute = 100 minutes. 40% of 100 minutes is 40 minutes. So Carla has downloaded 40 minutes worth of data. After the restart, Carla has to download 100 - 40 = 60 minutes worth of data. 40 minutes + 20 minutes + 60 minutes = 120 minutes.\\nThe answer is 120 minutes. I hope it is correct. Q: Carla is downloading a 200 GB file. Normally she can',\n",
       "  '20 chickens * 3 cups of feed per chicken = 60 cups of feed per day. 60 cups of feed per day is divided into 3 meals. 60 / 3 = 20 cups of feed per meal. 20 cups of feed per meal is given in the morning and afternoon. 20 + 20 = 40 cups of feed given in the morning and afternoon. 60 - 40 = 20 cups of feed given in the final meal of the day.\\n',\n",
       "  '16 glasses is 8 pairs of glasses. 8 pairs of glasses means 8 glasses at $5 each, and 8 glasses at 60% of $5 each. 8 x $5 = $40. 8 x $5 x 0.6 = $24. $40 + $24 = $64. The answer is $64.00. 1. 2. 3. 4. 5. 6. 7. 8.',\n",
       "  '20 + 4 * 20 + 2 * 4 * 20 = 20 + 80 + 160 = 260.\\nFinal Answer: The final answer is 260. I hope it is correct.',\n",
       "  '200 GB / 2 GB/minute = 100 minutes. 40% of 100 minutes is 40 minutes. So Carla has downloaded 40 minutes worth of data. After the restart, Carla has to download 100 - 40 = 60 minutes worth of data. 40 minutes + 20 minutes + 60 minutes = 120 minutes.\\nThe answer is 120 minutes. I hope it is correct. Q: Carla is downloading a 200 GB file. Normally she can',\n",
       "  '20 chickens * 3 cups of feed per chicken = 60 cups of feed per day. 60 cups of feed per day is divided into 3 meals. 60 / 3 = 20 cups of feed per meal. 20 cups of feed per meal is given in the morning and afternoon. 20 + 20 = 40 cups of feed given in the morning and afternoon. 60 - 40 = 20 cups of feed given in the final meal of the day.\\n',\n",
       "  '16 glasses is 8 pairs of glasses. 8 pairs of glasses means 8 glasses at $5 each, and 8 glasses at 60% of $5 each. 8 x $5 = $40. 8 x $5 x 0.6 = $24. $40 + $24 = $64. The answer is $64.00. 1. 2. 3. 4. 5. 6. 7. 8.',\n",
       "  '20 + 4 * 20 + 2 * 4 * 20 = 20 + 80 + 160 = 260.\\nFinal Answer: The final answer is 260. I hope it is correct.',\n",
       "  '200 GB / 2 GB/minute = 100 minutes. 40% of 100 minutes is 40 minutes. So Carla has downloaded 40 minutes worth of data. After the restart, Carla has to download 100 - 40 = 60 minutes worth of data. 40 minutes + 20 minutes + 60 minutes = 120 minutes.\\nThe answer is 120 minutes. I hope it is correct. Q: Carla is downloading a 200 GB file. Normally she can',\n",
       "  '20 chickens * 3 cups of feed per chicken = 60 cups of feed per day. 60 cups of feed per day is divided into 3 meals. 60 / 3 = 20 cups of feed per meal. 20 cups of feed per meal is given in the morning and afternoon. 20 + 20 = 40 cups of feed given in the morning and afternoon. 60 - 40 = 20 cups of feed given in the final meal of the day.\\n',\n",
       "  '16 glasses is 8 pairs of glasses. 8 pairs of glasses means 8 glasses at $5 each, and 8 glasses at 60% of $5 each. 8 x $5 = $40. 8 x $5 x 0.6 = $24. $40 + $24 = $64. The answer is $64.00. 1. 2. 3. 4. 5. 6. 7. 8.',\n",
       "  '20 + 4 * 20 + 2 * 4 * 20 = 20 + 80 + 160 = 260.\\nFinal Answer: The final answer is 260. I hope it is correct.',\n",
       "  '200 GB / 2 GB/minute = 100 minutes. 40% of 100 minutes is 40 minutes. So Carla has downloaded 40 minutes worth of data. After the restart, Carla has to download 100 - 40 = 60 minutes worth of data. 40 minutes + 20 minutes + 60 minutes = 120 minutes.\\nThe answer is 120 minutes. I hope it is correct. Q: Carla is downloading a 200 GB file. Normally she can',\n",
       "  '20 chickens * 3 cups of feed per chicken = 60 cups of feed per day. 60 cups of feed per day is divided into 3 meals. 60 / 3 = 20 cups of feed per meal. 20 cups of feed per meal is given in the morning and afternoon. 20 + 20 = 40 cups of feed given in the morning and afternoon. 60 - 40 = 20 cups of feed given in the final meal of the day.\\n',\n",
       "  '16 glasses is 8 pairs of glasses. 8 pairs of glasses means 8 glasses at $5 each, and 8 glasses at 60% of $5 each. 8 x $5 = $40. 8 x $5 x 0.6 = $24. $40 + $24 = $64. The answer is $64.00. 1. 2. 3. 4. 5. 6. 7. 8.',\n",
       "  '20 + 4 * 20 + 2 * 4 * 20 = 20 + 80 + 160 = 260.\\nFinal Answer: The final answer is 260. I hope it is correct.',\n",
       "  '200 GB / 2 GB/minute = 100 minutes. 40% of 100 minutes is 40 minutes. So Carla has downloaded 40 minutes worth of data. After the restart, Carla has to download 100 - 40 = 60 minutes worth of data. 40 minutes + 20 minutes + 60 minutes = 120 minutes.\\nThe answer is 120 minutes. I hope it is correct. Q: Carla is downloading a 200 GB file. Normally she can',\n",
       "  '20 chickens * 3 cups of feed per chicken = 60 cups of feed per day. 60 cups of feed per day is divided into 3 meals. 60 / 3 = 20 cups of feed per meal. 20 cups of feed per meal is given in the morning and afternoon. 20 + 20 = 40 cups of feed given in the morning and afternoon. 60 - 40 = 20 cups of feed given in the final meal of the day.\\n',\n",
       "  '16 glasses is 8 pairs of glasses. 8 pairs of glasses means 8 glasses at $5 each, and 8 glasses at 60% of $5 each. 8 x $5 = $40. 8 x $5 x 0.6 = $24. $40 + $24 = $64. The answer is $64.00. 1. 2. 3. 4. 5. 6. 7. 8.',\n",
       "  '20 + 4 * 20 + 2 * 4 * 20 = 20 + 80 + 160 = 260.\\nFinal Answer: The final answer is 260. I hope it is correct.',\n",
       "  '200 GB / 2 GB/minute = 100 minutes. 40% of 100 minutes is 40 minutes. So Carla has downloaded 40 minutes worth of data. After the restart, Carla has to download 100 - 40 = 60 minutes worth of data. 40 minutes + 20 minutes + 60 minutes = 120 minutes.\\nThe answer is 120 minutes. I hope it is correct. Q: Carla is downloading a 200 GB file. Normally she can',\n",
       "  '20 chickens * 3 cups of feed per chicken = 60 cups of feed per day. 60 cups of feed per day is divided into 3 meals. 60 / 3 = 20 cups of feed per meal. 20 cups of feed per meal is given in the morning and afternoon. 20 + 20 = 40 cups of feed given in the morning and afternoon. 60 - 40 = 20 cups of feed given in the final meal of the day.\\n',\n",
       "  '16 glasses is 8 pairs of glasses. 8 pairs of glasses means 8 glasses at $5 each, and 8 glasses at 60% of $5 each. 8 x $5 = $40. 8 x $5 x 0.6 = $24. $40 + $24 = $64. The answer is $64.00. 1. 2. 3. 4. 5. 6. 7. 8.',\n",
       "  '20 + 4 * 20 + 2 * 4 * 20 = 20 + 80 + 160 = 260.\\nFinal Answer: The final answer is 260. I hope it is correct.',\n",
       "  '200 GB / 2 GB/minute = 100 minutes. 40% of 100 minutes is 40 minutes. So Carla has downloaded 40 minutes worth of data. After the restart, Carla has to download 100 - 40 = 60 minutes worth of data. 40 minutes + 20 minutes + 60 minutes = 120 minutes.\\nThe answer is 120 minutes. I hope it is correct. Q: Carla is downloading a 200 GB file. Normally she can',\n",
       "  '20 chickens * 3 cups of feed per chicken = 60 cups of feed per day. 60 cups of feed per day is divided into 3 meals. 60 / 3 = 20 cups of feed per meal. 20 cups of feed per meal is given in the morning and afternoon. 20 + 20 = 40 cups of feed given in the morning and afternoon. 60 - 40 = 20 cups of feed given in the final meal of the day.\\n',\n",
       "  '16 glasses is 8 pairs of glasses. 8 pairs of glasses means 8 glasses at $5 each, and 8 glasses at 60% of $5 each. 8 x $5 = $40. 8 x $5 x 0.6 = $24. $40 + $24 = $64. The answer is $64.00. 1. 2. 3. 4. 5. 6. 7. 8.',\n",
       "  '20 + 4 * 20 + 2 * 4 * 20 = 20 + 80 + 160 = 260.\\nFinal Answer: The final answer is 260. I hope it is correct.',\n",
       "  '200 GB / 2 GB/minute = 100 minutes. 40% of 100 minutes is 40 minutes. So Carla has downloaded 40 minutes worth of data. After the restart, Carla has to download 100 - 40 = 60 minutes worth of data. 40 minutes + 20 minutes + 60 minutes = 120 minutes.\\nThe answer is 120 minutes. I hope it is correct. Q: Carla is downloading a 200 GB file. Normally she can',\n",
       "  '20 chickens * 3 cups of feed per chicken = 60 cups of feed per day. 60 cups of feed per day is divided into 3 meals. 60 / 3 = 20 cups of feed per meal. 20 cups of feed per meal is given in the morning and afternoon. 20 + 20 = 40 cups of feed given in the morning and afternoon. 60 - 40 = 20 cups of feed given in the final meal of the day.\\n',\n",
       "  '16 glasses is 8 pairs of glasses. 8 pairs of glasses means 8 glasses at $5 each, and 8 glasses at 60% of $5 each. 8 x $5 = $40. 8 x $5 x 0.6 = $24. $40 + $24 = $64. The answer is $64.00. 1. 2. 3. 4. 5. 6. 7. 8.',\n",
       "  '20 + 4 * 20 + 2 * 4 * 20 = 20 + 80 + 160 = 260.\\nFinal Answer: The final answer is 260. I hope it is correct.',\n",
       "  '200 GB / 2 GB/minute = 100 minutes. 40% of 100 minutes is 40 minutes. So Carla has downloaded 40 minutes worth of data. After the restart, Carla has to download 100 - 40 = 60 minutes worth of data. 40 minutes + 20 minutes + 60 minutes = 120 minutes.\\nThe answer is 120 minutes. I hope it is correct. Q: Carla is downloading a 200 GB file. Normally she can',\n",
       "  '20 chickens * 3 cups of feed per chicken = 60 cups of feed per day. 60 cups of feed per day is divided into 3 meals. 60 / 3 = 20 cups of feed per meal. 20 cups of feed per meal is given in the morning and afternoon. 20 + 20 = 40 cups of feed given in the morning and afternoon. 60 - 40 = 20 cups of feed given in the final meal of the day.\\n',\n",
       "  '16 glasses is 8 pairs of glasses. 8 pairs of glasses means 8 glasses at $5 each, and 8 glasses at 60% of $5 each. 8 x $5 = $40. 8 x $5 x 0.6 = $24. $40 + $24 = $64. The answer is $64.00. 1. 2. 3. 4. 5. 6. 7. 8.',\n",
       "  '20 + 4 * 20 + 2 * 4 * 20 = 20 + 80 + 160 = 260.\\nFinal Answer: The final answer is 260. I hope it is correct.',\n",
       "  '200 GB / 2 GB/minute = 100 minutes. 40% of 100 minutes is 40 minutes. So Carla has downloaded 40 minutes worth of data. After the restart, Carla has to download 100 - 40 = 60 minutes worth of data. 40 minutes + 20 minutes + 60 minutes = 120 minutes.\\nThe answer is 120 minutes. I hope it is correct. Q: Carla is downloading a 200 GB file. Normally she can',\n",
       "  '20 chickens * 3 cups of feed per chicken = 60 cups of feed per day. 60 cups of feed per day is divided into 3 meals. 60 / 3 = 20 cups of feed per meal. 20 cups of feed per meal is given in the morning and afternoon. 20 + 20 = 40 cups of feed given in the morning and afternoon. 60 - 40 = 20 cups of feed given in the final meal of the day.\\n',\n",
       "  '16 glasses is 8 pairs of glasses. 8 pairs of glasses means 8 glasses at $5 each, and 8 glasses at 60% of $5 each. 8 x $5 = $40. 8 x $5 x 0.6 = $24. $40 + $24 = $64. The answer is $64.00. 1. 2. 3. 4. 5. 6. 7. 8.',\n",
       "  '20 + 4 * 20 + 2 * 4 * 20 = 20 + 80 + 160 = 260.\\nFinal Answer: The final answer is 260. I hope it is correct.',\n",
       "  '200 GB / 2 GB/minute = 100 minutes. 40% of 100 minutes is 40 minutes. So Carla has downloaded 40 minutes worth of data. After the restart, Carla has to download 100 - 40 = 60 minutes worth of data. 40 minutes + 20 minutes + 60 minutes = 120 minutes.\\nThe answer is 120 minutes. I hope it is correct. Q: Carla is downloading a 200 GB file. Normally she can',\n",
       "  '20 chickens * 3 cups of feed per chicken = 60 cups of feed per day. 60 cups of feed per day is divided into 3 meals. 60 / 3 = 20 cups of feed per meal. 20 cups of feed per meal is given in the morning and afternoon. 20 + 20 = 40 cups of feed given in the morning and afternoon. 60 - 40 = 20 cups of feed given in the final meal of the day.\\n',\n",
       "  '16 glasses is 8 pairs of glasses. 8 pairs of glasses means 8 glasses at $5 each, and 8 glasses at 60% of $5 each. 8 x $5 = $40. 8 x $5 x 0.6 = $24. $40 + $24 = $64. The answer is $64.00. 1. 2. 3. 4. 5. 6. 7. 8.',\n",
       "  '20 + 4 * 20 + 2 * 4 * 20 = 20 + 80 + 160 = 260.\\nFinal Answer: The final answer is 260. I hope it is correct.',\n",
       "  '200 GB / 2 GB/minute = 100 minutes. 40% of 100 minutes is 40 minutes. So Carla has downloaded 40 minutes worth of data. After the restart, Carla has to download 100 - 40 = 60 minutes worth of data. 40 minutes + 20 minutes + 60 minutes = 120 minutes.\\nThe answer is 120 minutes. I hope it is correct. Q: Carla is downloading a 200 GB file. Normally she can',\n",
       "  '20 chickens * 3 cups of feed per chicken = 60 cups of feed per day. 60 cups of feed per day is divided into 3 meals. 60 / 3 = 20 cups of feed per meal. 20 cups of feed per meal is given in the morning and afternoon. 20 + 20 = 40 cups of feed given in the morning and afternoon. 60 - 40 = 20 cups of feed given in the final meal of the day.\\n',\n",
       "  '16 glasses is 8 pairs of glasses. 8 pairs of glasses means 8 glasses at $5 each, and 8 glasses at 60% of $5 each. 8 x $5 = $40. 8 x $5 x 0.6 = $24. $40 + $24 = $64. The answer is $64.00. 1. 2. 3. 4. 5. 6. 7. 8.',\n",
       "  '20 + 4 * 20 + 2 * 4 * 20 = 20 + 80 + 160 = 260.\\nFinal Answer: The final answer is 260. I hope it is correct.',\n",
       "  '200 GB / 2 GB/minute = 100 minutes. 40% of 100 minutes is 40 minutes. So Carla has downloaded 40 minutes worth of data. After the restart, Carla has to download 100 - 40 = 60 minutes worth of data. 40 minutes + 20 minutes + 60 minutes = 120 minutes.\\nThe answer is 120 minutes. I hope it is correct. Q: Carla is downloading a 200 GB file. Normally she can',\n",
       "  '20 chickens * 3 cups of feed per chicken = 60 cups of feed per day. 60 cups of feed per day is divided into 3 meals. 60 / 3 = 20 cups of feed per meal. 20 cups of feed per meal is given in the morning and afternoon. 20 + 20 = 40 cups of feed given in the morning and afternoon. 60 - 40 = 20 cups of feed given in the final meal of the day.\\n',\n",
       "  '16 glasses is 8 pairs of glasses. 8 pairs of glasses means 8 glasses at $5 each, and 8 glasses at 60% of $5 each. 8 x $5 = $40. 8 x $5 x 0.6 = $24. $40 + $24 = $64. The answer is $64.00. 1. 2. 3. 4. 5. 6. 7. 8.',\n",
       "  '20 + 4 * 20 + 2 * 4 * 20 = 20 + 80 + 160 = 260.\\nFinal Answer: The final answer is 260. I hope it is correct.',\n",
       "  '200 GB / 2 GB/minute = 100 minutes. 40% of 100 minutes is 40 minutes. So Carla has downloaded 40 minutes worth of data. After the restart, Carla has to download 100 - 40 = 60 minutes worth of data. 40 minutes + 20 minutes + 60 minutes = 120 minutes.\\nThe answer is 120 minutes. I hope it is correct. Q: Carla is downloading a 200 GB file. Normally she can',\n",
       "  '20 chickens * 3 cups of feed per chicken = 60 cups of feed per day. 60 cups of feed per day is divided into 3 meals. 60 / 3 = 20 cups of feed per meal. 20 cups of feed per meal is given in the morning and afternoon. 20 + 20 = 40 cups of feed given in the morning and afternoon. 60 - 40 = 20 cups of feed given in the final meal of the day.\\n',\n",
       "  '16 glasses is 8 pairs of glasses. 8 pairs of glasses means 8 glasses at $5 each, and 8 glasses at 60% of $5 each. 8 x $5 = $40. 8 x $5 x 0.6 = $24. $40 + $24 = $64. The answer is $64.00. 1. 2. 3. 4. 5. 6. 7. 8.',\n",
       "  '20 + 4 * 20 + 2 * 4 * 20 = 20 + 80 + 160 = 260.\\nFinal Answer: The final answer is 260. I hope it is correct.',\n",
       "  '200 GB / 2 GB/minute = 100 minutes. 40% of 100 minutes is 40 minutes. So Carla has downloaded 40 minutes worth of data. After the restart, Carla has to download 100 - 40 = 60 minutes worth of data. 40 minutes + 20 minutes + 60 minutes = 120 minutes.\\nThe answer is 120 minutes. I hope it is correct. Q: Carla is downloading a 200 GB file. Normally she can',\n",
       "  '20 chickens * 3 cups of feed per chicken = 60 cups of feed per day. 60 cups of feed per day is divided into 3 meals. 60 / 3 = 20 cups of feed per meal. 20 cups of feed per meal is given in the morning and afternoon. 20 + 20 = 40 cups of feed given in the morning and afternoon. 60 - 40 = 20 cups of feed given in the final meal of the day.\\n',\n",
       "  '16 glasses is 8 pairs of glasses. 8 pairs of glasses means 8 glasses at $5 each, and 8 glasses at 60% of $5 each. 8 x $5 = $40. 8 x $5 x 0.6 = $24. $40 + $24 = $64. The answer is $64.00. 1. 2. 3. 4. 5. 6. 7. 8.',\n",
       "  '20 + 4 * 20 + 2 * 4 * 20 = 20 + 80 + 160 = 260.\\nFinal Answer: The final answer is 260. I hope it is correct.',\n",
       "  '200 GB / 2 GB/minute = 100 minutes. 40% of 100 minutes is 40 minutes. So Carla has downloaded 40 minutes worth of data. After the restart, Carla has to download 100 - 40 = 60 minutes worth of data. 40 minutes + 20 minutes + 60 minutes = 120 minutes.\\nThe answer is 120 minutes. I hope it is correct. Q: Carla is downloading a 200 GB file. Normally she can',\n",
       "  '20 chickens * 3 cups of feed per chicken = 60 cups of feed per day. 60 cups of feed per day is divided into 3 meals. 60 / 3 = 20 cups of feed per meal. 20 cups of feed per meal is given in the morning and afternoon. 20 + 20 = 40 cups of feed given in the morning and afternoon. 60 - 40 = 20 cups of feed given in the final meal of the day.\\n',\n",
       "  '16 glasses is 8 pairs of glasses. 8 pairs of glasses means 8 glasses at $5 each, and 8 glasses at 60% of $5 each. 8 x $5 = $40. 8 x $5 x 0.6 = $24. $40 + $24 = $64. The answer is $64.00. 1. 2. 3. 4. 5. 6. 7. 8.',\n",
       "  '20 + 4 * 20 + 2 * 4 * 20 = 20 + 80 + 160 = 260.\\nFinal Answer: The final answer is 260. I hope it is correct.',\n",
       "  '200 GB / 2 GB/minute = 100 minutes. 40% of 100 minutes is 40 minutes. So Carla has downloaded 40 minutes worth of data. After the restart, Carla has to download 100 - 40 = 60 minutes worth of data. 40 minutes + 20 minutes + 60 minutes = 120 minutes.\\nThe answer is 120 minutes. I hope it is correct. Q: Carla is downloading a 200 GB file. Normally she can',\n",
       "  '20 chickens * 3 cups of feed per chicken = 60 cups of feed per day. 60 cups of feed per day is divided into 3 meals. 60 / 3 = 20 cups of feed per meal. 20 cups of feed per meal is given in the morning and afternoon. 20 + 20 = 40 cups of feed given in the morning and afternoon. 60 - 40 = 20 cups of feed given in the final meal of the day.\\n',\n",
       "  '16 glasses is 8 pairs of glasses. 8 pairs of glasses means 8 glasses at $5 each, and 8 glasses at 60% of $5 each. 8 x $5 = $40. 8 x $5 x 0.6 = $24. $40 + $24 = $64. The answer is $64.00. 1. 2. 3. 4. 5. 6. 7. 8.',\n",
       "  '20 + 4 * 20 + 2 * 4 * 20 = 20 + 80 + 160 = 260.\\nFinal Answer: The final answer is 260. I hope it is correct.',\n",
       "  '200 GB / 2 GB/minute = 100 minutes. 40% of 100 minutes is 40 minutes. So Carla has downloaded 40 minutes worth of data. After the restart, Carla has to download 100 - 40 = 60 minutes worth of data. 40 minutes + 20 minutes + 60 minutes = 120 minutes.\\nThe answer is 120 minutes. I hope it is correct. Q: Carla is downloading a 200 GB file. Normally she can',\n",
       "  '20 chickens * 3 cups of feed per chicken = 60 cups of feed per day. 60 cups of feed per day is divided into 3 meals. 60 / 3 = 20 cups of feed per meal. 20 cups of feed per meal is given in the morning and afternoon. 20 + 20 = 40 cups of feed given in the morning and afternoon. 60 - 40 = 20 cups of feed given in the final meal of the day.\\n',\n",
       "  '16 glasses is 8 pairs of glasses. 8 pairs of glasses means 8 glasses at $5 each, and 8 glasses at 60% of $5 each. 8 x $5 = $40. 8 x $5 x 0.6 = $24. $40 + $24 = $64. The answer is $64.00. 1. 2. 3. 4. 5. 6. 7. 8.',\n",
       "  '20 + 4 * 20 + 2 * 4 * 20 = 20 + 80 + 160 = 260.\\nFinal Answer: The final answer is 260. I hope it is correct.',\n",
       "  '200 GB / 2 GB/minute = 100 minutes. 40% of 100 minutes is 40 minutes. So Carla has downloaded 40 minutes worth of data. After the restart, Carla has to download 100 - 40 = 60 minutes worth of data. 40 minutes + 20 minutes + 60 minutes = 120 minutes.\\nThe answer is 120 minutes. I hope it is correct. Q: Carla is downloading a 200 GB file. Normally she can',\n",
       "  '20 chickens * 3 cups of feed per chicken = 60 cups of feed per day. 60 cups of feed per day is divided into 3 meals. 60 / 3 = 20 cups of feed per meal. 20 cups of feed per meal is given in the morning and afternoon. 20 + 20 = 40 cups of feed given in the morning and afternoon. 60 - 40 = 20 cups of feed given in the final meal of the day.\\n',\n",
       "  '16 glasses is 8 pairs of glasses. 8 pairs of glasses means 8 glasses at $5 each, and 8 glasses at 60% of $5 each. 8 x $5 = $40. 8 x $5 x 0.6 = $24. $40 + $24 = $64. The answer is $64.00. 1. 2. 3. 4. 5. 6. 7. 8.',\n",
       "  '20 + 4 * 20 + 2 * 4 * 20 = 20 + 80 + 160 = 260.\\nFinal Answer: The final answer is 260. I hope it is correct.',\n",
       "  '200 GB / 2 GB/minute = 100 minutes. 40% of 100 minutes is 40 minutes. So Carla has downloaded 40 minutes worth of data. After the restart, Carla has to download 100 - 40 = 60 minutes worth of data. 40 minutes + 20 minutes + 60 minutes = 120 minutes.\\nThe answer is 120 minutes. I hope it is correct. Q: Carla is downloading a 200 GB file. Normally she can',\n",
       "  '20 chickens * 3 cups of feed per chicken = 60 cups of feed per day. 60 cups of feed per day is divided into 3 meals. 60 / 3 = 20 cups of feed per meal. 20 cups of feed per meal is given in the morning and afternoon. 20 + 20 = 40 cups of feed given in the morning and afternoon. 60 - 40 = 20 cups of feed given in the final meal of the day.\\n',\n",
       "  '16 glasses is 8 pairs of glasses. 8 pairs of glasses means 8 glasses at $5 each, and 8 glasses at 60% of $5 each. 8 x $5 = $40. 8 x $5 x 0.6 = $24. $40 + $24 = $64. The answer is $64.00. 1. 2. 3. 4. 5. 6. 7. 8.',\n",
       "  '20 + 4 * 20 + 2 * 4 * 20 = 20 + 80 + 160 = 260.\\nFinal Answer: The final answer is 260. I hope it is correct.',\n",
       "  '200 GB / 2 GB/minute = 100 minutes. 40% of 100 minutes is 40 minutes. So Carla has downloaded 40 minutes worth of data. After the restart, Carla has to download 100 - 40 = 60 minutes worth of data. 40 minutes + 20 minutes + 60 minutes = 120 minutes.\\nThe answer is 120 minutes. I hope it is correct. Q: Carla is downloading a 200 GB file. Normally she can',\n",
       "  '20 chickens * 3 cups of feed per chicken = 60 cups of feed per day. 60 cups of feed per day is divided into 3 meals. 60 / 3 = 20 cups of feed per meal. 20 cups of feed per meal is given in the morning and afternoon. 20 + 20 = 40 cups of feed given in the morning and afternoon. 60 - 40 = 20 cups of feed given in the final meal of the day.\\n',\n",
       "  '16 glasses is 8 pairs of glasses. 8 pairs of glasses means 8 glasses at $5 each, and 8 glasses at 60% of $5 each. 8 x $5 = $40. 8 x $5 x 0.6 = $24. $40 + $24 = $64. The answer is $64.00. 1. 2. 3. 4. 5. 6. 7. 8.',\n",
       "  '20 + 4 * 20 + 2 * 4 * 20 = 20 + 80 + 160 = 260.\\nFinal Answer: The final answer is 260. I hope it is correct.',\n",
       "  '200 GB / 2 GB/minute = 100 minutes. 40% of 100 minutes is 40 minutes. So Carla has downloaded 40 minutes worth of data. After the restart, Carla has to download 100 - 40 = 60 minutes worth of data. 40 minutes + 20 minutes + 60 minutes = 120 minutes.\\nThe answer is 120 minutes. I hope it is correct. Q: Carla is downloading a 200 GB file. Normally she can',\n",
       "  '20 chickens * 3 cups of feed per chicken = 60 cups of feed per day. 60 cups of feed per day is divided into 3 meals. 60 / 3 = 20 cups of feed per meal. 20 cups of feed per meal is given in the morning and afternoon. 20 + 20 = 40 cups of feed given in the morning and afternoon. 60 - 40 = 20 cups of feed given in the final meal of the day.\\n',\n",
       "  '16 glasses is 8 pairs of glasses. 8 pairs of glasses means 8 glasses at $5 each, and 8 glasses at 60% of $5 each. 8 x $5 = $40. 8 x $5 x 0.6 = $24. $40 + $24 = $64. The answer is $64.00. 1. 2. 3. 4. 5. 6. 7. 8.',\n",
       "  '20 + 4 * 20 + 2 * 4 * 20 = 20 + 80 + 160 = 260.\\nFinal Answer: The final answer is 260. I hope it is correct.',\n",
       "  '200 GB / 2 GB/minute = 100 minutes. 40% of 100 minutes is 40 minutes. So Carla has downloaded 40 minutes worth of data. After the restart, Carla has to download 100 - 40 = 60 minutes worth of data. 40 minutes + 20 minutes + 60 minutes = 120 minutes.\\nThe answer is 120 minutes. I hope it is correct. Q: Carla is downloading a 200 GB file. Normally she can',\n",
       "  '20 chickens * 3 cups of feed per chicken = 60 cups of feed per day. 60 cups of feed per day is divided into 3 meals. 60 / 3 = 20 cups of feed per meal. 20 cups of feed per meal is given in the morning and afternoon. 20 + 20 = 40 cups of feed given in the morning and afternoon. 60 - 40 = 20 cups of feed given in the final meal of the day.\\n',\n",
       "  '16 glasses is 8 pairs of glasses. 8 pairs of glasses means 8 glasses at $5 each, and 8 glasses at 60% of $5 each. 8 x $5 = $40. 8 x $5 x 0.6 = $24. $40 + $24 = $64. The answer is $64.00. 1. 2. 3. 4. 5. 6. 7. 8.',\n",
       "  '20 + 4 * 20 + 2 * 4 * 20 = 20 + 80 + 160 = 260.\\nFinal Answer: The final answer is 260. I hope it is correct.',\n",
       "  '200 GB / 2 GB/minute = 100 minutes. 40% of 100 minutes is 40 minutes. So Carla has downloaded 40 minutes worth of data. After the restart, Carla has to download 100 - 40 = 60 minutes worth of data. 40 minutes + 20 minutes + 60 minutes = 120 minutes.\\nThe answer is 120 minutes. I hope it is correct. Q: Carla is downloading a 200 GB file. Normally she can',\n",
       "  '20 chickens * 3 cups of feed per chicken = 60 cups of feed per day. 60 cups of feed per day is divided into 3 meals. 60 / 3 = 20 cups of feed per meal. 20 cups of feed per meal is given in the morning and afternoon. 20 + 20 = 40 cups of feed given in the morning and afternoon. 60 - 40 = 20 cups of feed given in the final meal of the day.\\n',\n",
       "  '16 glasses is 8 pairs of glasses. 8 pairs of glasses means 8 glasses at $5 each, and 8 glasses at 60% of $5 each. 8 x $5 = $40. 8 x $5 x 0.6 = $24. $40 + $24 = $64. The answer is $64.00. 1. 2. 3. 4. 5. 6. 7. 8.',\n",
       "  '20 + 4 * 20 + 2 * 4 * 20 = 20 + 80 + 160 = 260.\\nFinal Answer: The final answer is 260. I hope it is correct.',\n",
       "  '200 GB / 2 GB/minute = 100 minutes. 40% of 100 minutes is 40 minutes. So Carla has downloaded 40 minutes worth of data. After the restart, Carla has to download 100 - 40 = 60 minutes worth of data. 40 minutes + 20 minutes + 60 minutes = 120 minutes.\\nThe answer is 120 minutes. I hope it is correct. Q: Carla is downloading a 200 GB file. Normally she can',\n",
       "  '20 chickens * 3 cups of feed per chicken = 60 cups of feed per day. 60 cups of feed per day is divided into 3 meals. 60 / 3 = 20 cups of feed per meal. 20 cups of feed per meal is given in the morning and afternoon. 20 + 20 = 40 cups of feed given in the morning and afternoon. 60 - 40 = 20 cups of feed given in the final meal of the day.\\n',\n",
       "  '16 glasses is 8 pairs of glasses. 8 pairs of glasses means 8 glasses at $5 each, and 8 glasses at 60% of $5 each. 8 x $5 = $40. 8 x $5 x 0.6 = $24. $40 + $24 = $64. The answer is $64.00. 1. 2. 3. 4. 5. 6. 7. 8.',\n",
       "  '20 + 4 * 20 + 2 * 4 * 20 = 20 + 80 + 160 = 260.\\nFinal Answer: The final answer is 260. I hope it is correct.',\n",
       "  '200 GB / 2 GB/minute = 100 minutes. 40% of 100 minutes is 40 minutes. So Carla has downloaded 40 minutes worth of data. After the restart, Carla has to download 100 - 40 = 60 minutes worth of data. 40 minutes + 20 minutes + 60 minutes = 120 minutes.\\nThe answer is 120 minutes. I hope it is correct. Q: Carla is downloading a 200 GB file. Normally she can',\n",
       "  '20 chickens * 3 cups of feed per chicken = 60 cups of feed per day. 60 cups of feed per day is divided into 3 meals. 60 / 3 = 20 cups of feed per meal. 20 cups of feed per meal is given in the morning and afternoon. 20 + 20 = 40 cups of feed given in the morning and afternoon. 60 - 40 = 20 cups of feed given in the final meal of the day.\\n',\n",
       "  '16 glasses is 8 pairs of glasses. 8 pairs of glasses means 8 glasses at $5 each, and 8 glasses at 60% of $5 each. 8 x $5 = $40. 8 x $5 x 0.6 = $24. $40 + $24 = $64. The answer is $64.00. 1. 2. 3. 4. 5. 6. 7. 8.',\n",
       "  '20 + 4 * 20 + 2 * 4 * 20 = 20 + 80 + 160 = 260.\\nFinal Answer: The final answer is 260. I hope it is correct.',\n",
       "  '200 GB / 2 GB/minute = 100 minutes. 40% of 100 minutes is 40 minutes. So Carla has downloaded 40 minutes worth of data. After the restart, Carla has to download 100 - 40 = 60 minutes worth of data. 40 minutes + 20 minutes + 60 minutes = 120 minutes.\\nThe answer is 120 minutes. I hope it is correct. Q: Carla is downloading a 200 GB file. Normally she can',\n",
       "  '20 chickens * 3 cups of feed per chicken = 60 cups of feed per day. 60 cups of feed per day is divided into 3 meals. 60 / 3 = 20 cups of feed per meal. 20 cups of feed per meal is given in the morning and afternoon. 20 + 20 = 40 cups of feed given in the morning and afternoon. 60 - 40 = 20 cups of feed given in the final meal of the day.\\n',\n",
       "  '16 glasses is 8 pairs of glasses. 8 pairs of glasses means 8 glasses at $5 each, and 8 glasses at 60% of $5 each. 8 x $5 = $40. 8 x $5 x 0.6 = $24. $40 + $24 = $64. The answer is $64.00. 1. 2. 3. 4. 5. 6. 7. 8.',\n",
       "  '20 + 4 * 20 + 2 * 4 * 20 = 20 + 80 + 160 = 260.\\nFinal Answer: The final answer is 260. I hope it is correct.',\n",
       "  '200 GB / 2 GB/minute = 100 minutes. 40% of 100 minutes is 40 minutes. So Carla has downloaded 40 minutes worth of data. After the restart, Carla has to download 100 - 40 = 60 minutes worth of data. 40 minutes + 20 minutes + 60 minutes = 120 minutes.\\nThe answer is 120 minutes. I hope it is correct. Q: Carla is downloading a 200 GB file. Normally she can']]"
      ]
     },
     "execution_count": 48,
     "metadata": {},
     "output_type": "execute_result"
    }
   ],
   "source": [
    "hs_cache_no_cot_other_all['gsm8k'][1]"
   ]
  },
  {
   "cell_type": "code",
   "execution_count": 24,
   "id": "9ca6e44b-ea41-48a8-a4ce-0036e15e5610",
   "metadata": {},
   "outputs": [
    {
     "data": {
      "text/plain": [
       "dict_keys(['ceval_liberal', 'gsm8k', 'mgsm', 'popqa'])"
      ]
     },
     "execution_count": 24,
     "metadata": {},
     "output_type": "execute_result"
    }
   ],
   "source": [
    "hs_cache_no_cot_other_all.keys()"
   ]
  },
  {
   "cell_type": "code",
   "execution_count": 29,
   "id": "ebb72c3b-75e3-4adb-8a7b-aba6f0d5b85a",
   "metadata": {},
   "outputs": [
    {
     "data": {
      "text/plain": [
       "dict_keys([0, 1, 2, 3, 4, 5, 6, 7, 8, 9, 10, 11, 12, 13, 14, 15, 16, 17, 18, 19, 20, 21, 22, 23, 24, 25, 26, 27, 28, 29, 30, 31, 32, 33, 34, 35, 36, 37, 38, 39, 40, 41])"
      ]
     },
     "execution_count": 29,
     "metadata": {},
     "output_type": "execute_result"
    }
   ],
   "source": [
    "hs_cache_no_cot_other_all['ceval_liberal'].keys()"
   ]
  },
  {
   "cell_type": "code",
   "execution_count": 26,
   "id": "767edfc2-2503-4d93-a52c-50d0f3624a9c",
   "metadata": {},
   "outputs": [
    {
     "data": {
      "text/plain": [
       "dict_keys([0, 1, 2, 3, 4, 5, 6, 7, 8, 9, 10, 11, 12, 13, 14, 15, 16, 17, 18, 19, 20, 21, 22, 23, 24, 25, 26, 27, 28, 29, 30, 31, 32, 33, 34, 35, 36, 37, 38, 39, 40, 41])"
      ]
     },
     "execution_count": 26,
     "metadata": {},
     "output_type": "execute_result"
    }
   ],
   "source": [
    "hs_cache_no_cot.keys()"
   ]
  },
  {
   "cell_type": "code",
   "execution_count": null,
   "id": "5c36f461-35d9-4275-be18-b5f6fac282e1",
   "metadata": {},
   "outputs": [],
   "source": [
    "hs_cache_no_cot_other_all['mmlu-pro'] = hs_cache_no_cot"
   ]
  },
  {
   "cell_type": "code",
   "execution_count": null,
   "id": "57033cea-758c-4dd9-9447-608bbed6a970",
   "metadata": {
    "id": "57033cea-758c-4dd9-9447-608bbed6a970",
    "tags": []
   },
   "outputs": [],
   "source": [
    "# os.makedirs(save_path, exist_ok=True)\n",
    "\n",
    "torch.save(hs_cache_no_cot_other_all, os.path.join(output_dir, f'{model_name}-base_hs_cache_no_cot_all.pt'))"
   ]
  },
  {
   "cell_type": "code",
   "execution_count": null,
   "id": "TE8YUmOkBj-E",
   "metadata": {
    "id": "TE8YUmOkBj-E"
   },
   "outputs": [],
   "source": []
  }
 ],
 "metadata": {
  "accelerator": "GPU",
  "colab": {
   "gpuType": "A100",
   "machine_shape": "hm",
   "provenance": []
  },
  "kernelspec": {
   "display_name": "liref",
   "language": "python",
   "name": "liref"
  },
  "language_info": {
   "codemirror_mode": {
    "name": "ipython",
    "version": 3
   },
   "file_extension": ".py",
   "mimetype": "text/x-python",
   "name": "python",
   "nbconvert_exporter": "python",
   "pygments_lexer": "ipython3",
   "version": "3.13.2"
  },
  "widgets": {
   "application/vnd.jupyter.widget-state+json": {
    "1abbb62946cd4c8aaa51a68465991a4d": {
     "model_module": "@jupyter-widgets/base",
     "model_module_version": "1.2.0",
     "model_name": "LayoutModel",
     "state": {
      "_model_module": "@jupyter-widgets/base",
      "_model_module_version": "1.2.0",
      "_model_name": "LayoutModel",
      "_view_count": null,
      "_view_module": "@jupyter-widgets/base",
      "_view_module_version": "1.2.0",
      "_view_name": "LayoutView",
      "align_content": null,
      "align_items": null,
      "align_self": null,
      "border": null,
      "bottom": null,
      "display": null,
      "flex": null,
      "flex_flow": null,
      "grid_area": null,
      "grid_auto_columns": null,
      "grid_auto_flow": null,
      "grid_auto_rows": null,
      "grid_column": null,
      "grid_gap": null,
      "grid_row": null,
      "grid_template_areas": null,
      "grid_template_columns": null,
      "grid_template_rows": null,
      "height": null,
      "justify_content": null,
      "justify_items": null,
      "left": null,
      "margin": null,
      "max_height": null,
      "max_width": null,
      "min_height": null,
      "min_width": null,
      "object_fit": null,
      "object_position": null,
      "order": null,
      "overflow": null,
      "overflow_x": null,
      "overflow_y": null,
      "padding": null,
      "right": null,
      "top": null,
      "visibility": null,
      "width": null
     }
    },
    "25afd6e234544ea2b9eb68843adb6932": {
     "model_module": "@jupyter-widgets/controls",
     "model_module_version": "1.5.0",
     "model_name": "HTMLModel",
     "state": {
      "_dom_classes": [],
      "_model_module": "@jupyter-widgets/controls",
      "_model_module_version": "1.5.0",
      "_model_name": "HTMLModel",
      "_view_count": null,
      "_view_module": "@jupyter-widgets/controls",
      "_view_module_version": "1.5.0",
      "_view_name": "HTMLView",
      "description": "",
      "description_tooltip": null,
      "layout": "IPY_MODEL_740f53c861134eaa9a4a1b204a74df0c",
      "placeholder": "​",
      "style": "IPY_MODEL_83c24ab4ff8d4db8b9783c38c2335793",
      "value": "Loading checkpoint shards: 100%"
     }
    },
    "354479b133c44a2580c6d1945897d01d": {
     "model_module": "@jupyter-widgets/controls",
     "model_module_version": "1.5.0",
     "model_name": "HTMLModel",
     "state": {
      "_dom_classes": [],
      "_model_module": "@jupyter-widgets/controls",
      "_model_module_version": "1.5.0",
      "_model_name": "HTMLModel",
      "_view_count": null,
      "_view_module": "@jupyter-widgets/controls",
      "_view_module_version": "1.5.0",
      "_view_name": "HTMLView",
      "description": "",
      "description_tooltip": null,
      "layout": "IPY_MODEL_df21536bfd684f3c88ac1080c2f432e1",
      "placeholder": "​",
      "style": "IPY_MODEL_fef7a900df9840aeb126b47c103eefe9",
      "value": " 4/4 [00:41&lt;00:00,  7.82s/it]"
     }
    },
    "406cfb8c83bc429ca5747544497cd06b": {
     "model_module": "@jupyter-widgets/controls",
     "model_module_version": "1.5.0",
     "model_name": "FloatProgressModel",
     "state": {
      "_dom_classes": [],
      "_model_module": "@jupyter-widgets/controls",
      "_model_module_version": "1.5.0",
      "_model_name": "FloatProgressModel",
      "_view_count": null,
      "_view_module": "@jupyter-widgets/controls",
      "_view_module_version": "1.5.0",
      "_view_name": "ProgressView",
      "bar_style": "success",
      "description": "",
      "description_tooltip": null,
      "layout": "IPY_MODEL_4c9e0eb4edb64fdd891816b3f73ad723",
      "max": 4,
      "min": 0,
      "orientation": "horizontal",
      "style": "IPY_MODEL_891b74354bbd451cbf7cbdc5682433cd",
      "value": 4
     }
    },
    "4c9e0eb4edb64fdd891816b3f73ad723": {
     "model_module": "@jupyter-widgets/base",
     "model_module_version": "1.2.0",
     "model_name": "LayoutModel",
     "state": {
      "_model_module": "@jupyter-widgets/base",
      "_model_module_version": "1.2.0",
      "_model_name": "LayoutModel",
      "_view_count": null,
      "_view_module": "@jupyter-widgets/base",
      "_view_module_version": "1.2.0",
      "_view_name": "LayoutView",
      "align_content": null,
      "align_items": null,
      "align_self": null,
      "border": null,
      "bottom": null,
      "display": null,
      "flex": null,
      "flex_flow": null,
      "grid_area": null,
      "grid_auto_columns": null,
      "grid_auto_flow": null,
      "grid_auto_rows": null,
      "grid_column": null,
      "grid_gap": null,
      "grid_row": null,
      "grid_template_areas": null,
      "grid_template_columns": null,
      "grid_template_rows": null,
      "height": null,
      "justify_content": null,
      "justify_items": null,
      "left": null,
      "margin": null,
      "max_height": null,
      "max_width": null,
      "min_height": null,
      "min_width": null,
      "object_fit": null,
      "object_position": null,
      "order": null,
      "overflow": null,
      "overflow_x": null,
      "overflow_y": null,
      "padding": null,
      "right": null,
      "top": null,
      "visibility": null,
      "width": null
     }
    },
    "740f53c861134eaa9a4a1b204a74df0c": {
     "model_module": "@jupyter-widgets/base",
     "model_module_version": "1.2.0",
     "model_name": "LayoutModel",
     "state": {
      "_model_module": "@jupyter-widgets/base",
      "_model_module_version": "1.2.0",
      "_model_name": "LayoutModel",
      "_view_count": null,
      "_view_module": "@jupyter-widgets/base",
      "_view_module_version": "1.2.0",
      "_view_name": "LayoutView",
      "align_content": null,
      "align_items": null,
      "align_self": null,
      "border": null,
      "bottom": null,
      "display": null,
      "flex": null,
      "flex_flow": null,
      "grid_area": null,
      "grid_auto_columns": null,
      "grid_auto_flow": null,
      "grid_auto_rows": null,
      "grid_column": null,
      "grid_gap": null,
      "grid_row": null,
      "grid_template_areas": null,
      "grid_template_columns": null,
      "grid_template_rows": null,
      "height": null,
      "justify_content": null,
      "justify_items": null,
      "left": null,
      "margin": null,
      "max_height": null,
      "max_width": null,
      "min_height": null,
      "min_width": null,
      "object_fit": null,
      "object_position": null,
      "order": null,
      "overflow": null,
      "overflow_x": null,
      "overflow_y": null,
      "padding": null,
      "right": null,
      "top": null,
      "visibility": null,
      "width": null
     }
    },
    "83c24ab4ff8d4db8b9783c38c2335793": {
     "model_module": "@jupyter-widgets/controls",
     "model_module_version": "1.5.0",
     "model_name": "DescriptionStyleModel",
     "state": {
      "_model_module": "@jupyter-widgets/controls",
      "_model_module_version": "1.5.0",
      "_model_name": "DescriptionStyleModel",
      "_view_count": null,
      "_view_module": "@jupyter-widgets/base",
      "_view_module_version": "1.2.0",
      "_view_name": "StyleView",
      "description_width": ""
     }
    },
    "868b250a68964c608a5b44d6369aec65": {
     "model_module": "@jupyter-widgets/controls",
     "model_module_version": "1.5.0",
     "model_name": "HBoxModel",
     "state": {
      "_dom_classes": [],
      "_model_module": "@jupyter-widgets/controls",
      "_model_module_version": "1.5.0",
      "_model_name": "HBoxModel",
      "_view_count": null,
      "_view_module": "@jupyter-widgets/controls",
      "_view_module_version": "1.5.0",
      "_view_name": "HBoxView",
      "box_style": "",
      "children": [
       "IPY_MODEL_25afd6e234544ea2b9eb68843adb6932",
       "IPY_MODEL_406cfb8c83bc429ca5747544497cd06b",
       "IPY_MODEL_354479b133c44a2580c6d1945897d01d"
      ],
      "layout": "IPY_MODEL_1abbb62946cd4c8aaa51a68465991a4d"
     }
    },
    "891b74354bbd451cbf7cbdc5682433cd": {
     "model_module": "@jupyter-widgets/controls",
     "model_module_version": "1.5.0",
     "model_name": "ProgressStyleModel",
     "state": {
      "_model_module": "@jupyter-widgets/controls",
      "_model_module_version": "1.5.0",
      "_model_name": "ProgressStyleModel",
      "_view_count": null,
      "_view_module": "@jupyter-widgets/base",
      "_view_module_version": "1.2.0",
      "_view_name": "StyleView",
      "bar_color": null,
      "description_width": ""
     }
    },
    "df21536bfd684f3c88ac1080c2f432e1": {
     "model_module": "@jupyter-widgets/base",
     "model_module_version": "1.2.0",
     "model_name": "LayoutModel",
     "state": {
      "_model_module": "@jupyter-widgets/base",
      "_model_module_version": "1.2.0",
      "_model_name": "LayoutModel",
      "_view_count": null,
      "_view_module": "@jupyter-widgets/base",
      "_view_module_version": "1.2.0",
      "_view_name": "LayoutView",
      "align_content": null,
      "align_items": null,
      "align_self": null,
      "border": null,
      "bottom": null,
      "display": null,
      "flex": null,
      "flex_flow": null,
      "grid_area": null,
      "grid_auto_columns": null,
      "grid_auto_flow": null,
      "grid_auto_rows": null,
      "grid_column": null,
      "grid_gap": null,
      "grid_row": null,
      "grid_template_areas": null,
      "grid_template_columns": null,
      "grid_template_rows": null,
      "height": null,
      "justify_content": null,
      "justify_items": null,
      "left": null,
      "margin": null,
      "max_height": null,
      "max_width": null,
      "min_height": null,
      "min_width": null,
      "object_fit": null,
      "object_position": null,
      "order": null,
      "overflow": null,
      "overflow_x": null,
      "overflow_y": null,
      "padding": null,
      "right": null,
      "top": null,
      "visibility": null,
      "width": null
     }
    },
    "fef7a900df9840aeb126b47c103eefe9": {
     "model_module": "@jupyter-widgets/controls",
     "model_module_version": "1.5.0",
     "model_name": "DescriptionStyleModel",
     "state": {
      "_model_module": "@jupyter-widgets/controls",
      "_model_module_version": "1.5.0",
      "_model_name": "DescriptionStyleModel",
      "_view_count": null,
      "_view_module": "@jupyter-widgets/base",
      "_view_module_version": "1.2.0",
      "_view_name": "StyleView",
      "description_width": ""
     }
    }
   }
  }
 },
 "nbformat": 4,
 "nbformat_minor": 5
}
